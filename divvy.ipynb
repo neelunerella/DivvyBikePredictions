{
 "cells": [
  {
   "cell_type": "code",
   "execution_count": 380,
   "metadata": {},
   "outputs": [],
   "source": [
    "import pandas as pd\n",
    "import numpy as np\n",
    "from sklearn.linear_model import LinearRegression\n",
    "from sklearn.tree import DecisionTreeClassifier\n",
    "from sklearn.tree import DecisionTreeRegressor\n",
    "from sklearn.metrics import mean_squared_error, r2_score\n",
    "from sklearn.model_selection import cross_val_score"
   ]
  },
  {
   "cell_type": "code",
   "execution_count": 381,
   "metadata": {},
   "outputs": [],
   "source": [
    "data = pd.read_csv('202310-divvy-tripdata.csv')\n",
    "data = data[pd.to_numeric(data['start_station_id'], errors='coerce').notnull()]\n",
    "data = data[pd.to_numeric(data['end_station_id'], errors='coerce').notnull()]\n",
    "data = data.dropna(subset=['start_station_id', 'end_station_id'])"
   ]
  },
  {
   "cell_type": "code",
   "execution_count": 382,
   "metadata": {},
   "outputs": [
    {
     "data": {
      "text/html": [
       "<div>\n",
       "<style scoped>\n",
       "    .dataframe tbody tr th:only-of-type {\n",
       "        vertical-align: middle;\n",
       "    }\n",
       "\n",
       "    .dataframe tbody tr th {\n",
       "        vertical-align: top;\n",
       "    }\n",
       "\n",
       "    .dataframe thead th {\n",
       "        text-align: right;\n",
       "    }\n",
       "</style>\n",
       "<table border=\"1\" class=\"dataframe\">\n",
       "  <thead>\n",
       "    <tr style=\"text-align: right;\">\n",
       "      <th></th>\n",
       "      <th>startcount</th>\n",
       "    </tr>\n",
       "    <tr>\n",
       "      <th>start_station_id</th>\n",
       "      <th></th>\n",
       "    </tr>\n",
       "  </thead>\n",
       "  <tbody>\n",
       "    <tr>\n",
       "      <th>13022</th>\n",
       "      <td>2230</td>\n",
       "    </tr>\n",
       "    <tr>\n",
       "      <th>13300</th>\n",
       "      <td>1883</td>\n",
       "    </tr>\n",
       "    <tr>\n",
       "      <th>13216</th>\n",
       "      <td>1310</td>\n",
       "    </tr>\n",
       "    <tr>\n",
       "      <th>15544</th>\n",
       "      <td>1284</td>\n",
       "    </tr>\n",
       "    <tr>\n",
       "      <th>13008</th>\n",
       "      <td>1258</td>\n",
       "    </tr>\n",
       "  </tbody>\n",
       "</table>\n",
       "</div>"
      ],
      "text/plain": [
       "                  startcount\n",
       "start_station_id            \n",
       "13022                   2230\n",
       "13300                   1883\n",
       "13216                   1310\n",
       "15544                   1284\n",
       "13008                   1258"
      ]
     },
     "execution_count": 382,
     "metadata": {},
     "output_type": "execute_result"
    }
   ],
   "source": [
    "\n",
    "start = pd.DataFrame(data['start_station_id'].value_counts())\n",
    "end = pd.DataFrame(data['end_station_id'].value_counts())\n",
    "start = start.rename(columns={'count': 'startcount'})\n",
    "start.head()"
   ]
  },
  {
   "cell_type": "code",
   "execution_count": 383,
   "metadata": {},
   "outputs": [
    {
     "data": {
      "text/html": [
       "<div>\n",
       "<style scoped>\n",
       "    .dataframe tbody tr th:only-of-type {\n",
       "        vertical-align: middle;\n",
       "    }\n",
       "\n",
       "    .dataframe tbody tr th {\n",
       "        vertical-align: top;\n",
       "    }\n",
       "\n",
       "    .dataframe thead th {\n",
       "        text-align: right;\n",
       "    }\n",
       "</style>\n",
       "<table border=\"1\" class=\"dataframe\">\n",
       "  <thead>\n",
       "    <tr style=\"text-align: right;\">\n",
       "      <th></th>\n",
       "      <th>endcount</th>\n",
       "    </tr>\n",
       "    <tr>\n",
       "      <th>end_station_id</th>\n",
       "      <th></th>\n",
       "    </tr>\n",
       "  </thead>\n",
       "  <tbody>\n",
       "    <tr>\n",
       "      <th>13022</th>\n",
       "      <td>2546</td>\n",
       "    </tr>\n",
       "    <tr>\n",
       "      <th>13300</th>\n",
       "      <td>1703</td>\n",
       "    </tr>\n",
       "    <tr>\n",
       "      <th>13008</th>\n",
       "      <td>1403</td>\n",
       "    </tr>\n",
       "    <tr>\n",
       "      <th>13216</th>\n",
       "      <td>1305</td>\n",
       "    </tr>\n",
       "    <tr>\n",
       "      <th>13042</th>\n",
       "      <td>1289</td>\n",
       "    </tr>\n",
       "  </tbody>\n",
       "</table>\n",
       "</div>"
      ],
      "text/plain": [
       "                endcount\n",
       "end_station_id          \n",
       "13022               2546\n",
       "13300               1703\n",
       "13008               1403\n",
       "13216               1305\n",
       "13042               1289"
      ]
     },
     "execution_count": 383,
     "metadata": {},
     "output_type": "execute_result"
    }
   ],
   "source": [
    "end = end.rename(columns={'count': 'endcount'})\n",
    "end.head()"
   ]
  },
  {
   "cell_type": "code",
   "execution_count": 384,
   "metadata": {},
   "outputs": [
    {
     "data": {
      "text/html": [
       "<div>\n",
       "<style scoped>\n",
       "    .dataframe tbody tr th:only-of-type {\n",
       "        vertical-align: middle;\n",
       "    }\n",
       "\n",
       "    .dataframe tbody tr th {\n",
       "        vertical-align: top;\n",
       "    }\n",
       "\n",
       "    .dataframe thead th {\n",
       "        text-align: right;\n",
       "    }\n",
       "</style>\n",
       "<table border=\"1\" class=\"dataframe\">\n",
       "  <thead>\n",
       "    <tr style=\"text-align: right;\">\n",
       "      <th></th>\n",
       "      <th>startcount</th>\n",
       "      <th>endcount</th>\n",
       "      <th>total</th>\n",
       "    </tr>\n",
       "  </thead>\n",
       "  <tbody>\n",
       "    <tr>\n",
       "      <th>13022</th>\n",
       "      <td>2230.0</td>\n",
       "      <td>2546.0</td>\n",
       "      <td>4776.0</td>\n",
       "    </tr>\n",
       "    <tr>\n",
       "      <th>13300</th>\n",
       "      <td>1883.0</td>\n",
       "      <td>1703.0</td>\n",
       "      <td>3586.0</td>\n",
       "    </tr>\n",
       "    <tr>\n",
       "      <th>13216</th>\n",
       "      <td>1310.0</td>\n",
       "      <td>1305.0</td>\n",
       "      <td>2615.0</td>\n",
       "    </tr>\n",
       "    <tr>\n",
       "      <th>15544</th>\n",
       "      <td>1284.0</td>\n",
       "      <td>1114.0</td>\n",
       "      <td>2398.0</td>\n",
       "    </tr>\n",
       "    <tr>\n",
       "      <th>13008</th>\n",
       "      <td>1258.0</td>\n",
       "      <td>1403.0</td>\n",
       "      <td>2661.0</td>\n",
       "    </tr>\n",
       "    <tr>\n",
       "      <th>13042</th>\n",
       "      <td>1150.0</td>\n",
       "      <td>1289.0</td>\n",
       "      <td>2439.0</td>\n",
       "    </tr>\n",
       "    <tr>\n",
       "      <th>13217</th>\n",
       "      <td>1092.0</td>\n",
       "      <td>1067.0</td>\n",
       "      <td>2159.0</td>\n",
       "    </tr>\n",
       "    <tr>\n",
       "      <th>13011</th>\n",
       "      <td>1004.0</td>\n",
       "      <td>943.0</td>\n",
       "      <td>1947.0</td>\n",
       "    </tr>\n",
       "    <tr>\n",
       "      <th>638</th>\n",
       "      <td>988.0</td>\n",
       "      <td>1047.0</td>\n",
       "      <td>2035.0</td>\n",
       "    </tr>\n",
       "    <tr>\n",
       "      <th>13061</th>\n",
       "      <td>965.0</td>\n",
       "      <td>964.0</td>\n",
       "      <td>1929.0</td>\n",
       "    </tr>\n",
       "  </tbody>\n",
       "</table>\n",
       "</div>"
      ],
      "text/plain": [
       "       startcount  endcount   total\n",
       "13022      2230.0    2546.0  4776.0\n",
       "13300      1883.0    1703.0  3586.0\n",
       "13216      1310.0    1305.0  2615.0\n",
       "15544      1284.0    1114.0  2398.0\n",
       "13008      1258.0    1403.0  2661.0\n",
       "13042      1150.0    1289.0  2439.0\n",
       "13217      1092.0    1067.0  2159.0\n",
       "13011      1004.0     943.0  1947.0\n",
       "638         988.0    1047.0  2035.0\n",
       "13061       965.0     964.0  1929.0"
      ]
     },
     "execution_count": 384,
     "metadata": {},
     "output_type": "execute_result"
    }
   ],
   "source": [
    "stations = pd.concat([start['startcount'], end['endcount']], axis=1)\n",
    "stations['total'] = stations['startcount'] + stations['endcount']\n",
    "stations.head(10)\n",
    "#stations['total'] = stations['start_station_id'] + stations['end_station_id']\n",
    "#stations.head(10)"
   ]
  },
  {
   "cell_type": "code",
   "execution_count": 385,
   "metadata": {},
   "outputs": [
    {
     "name": "stdout",
     "output_type": "stream",
     "text": [
      "['13022', '13300', '13008', '13216', '13042', '15544', '13217', '638', '13011', '13061']\n"
     ]
    }
   ],
   "source": [
    "stats = stations.sort_values('total', ascending=False).head(10)\n",
    "stats = list(stats.index)\n",
    "print(stats)"
   ]
  },
  {
   "cell_type": "code",
   "execution_count": 538,
   "metadata": {},
   "outputs": [
    {
     "data": {
      "text/html": [
       "<div>\n",
       "<style scoped>\n",
       "    .dataframe tbody tr th:only-of-type {\n",
       "        vertical-align: middle;\n",
       "    }\n",
       "\n",
       "    .dataframe tbody tr th {\n",
       "        vertical-align: top;\n",
       "    }\n",
       "\n",
       "    .dataframe thead th {\n",
       "        text-align: right;\n",
       "    }\n",
       "</style>\n",
       "<table border=\"1\" class=\"dataframe\">\n",
       "  <thead>\n",
       "    <tr style=\"text-align: right;\">\n",
       "      <th></th>\n",
       "      <th>ride_id</th>\n",
       "      <th>rideable_type</th>\n",
       "      <th>started_at</th>\n",
       "      <th>ended_at</th>\n",
       "      <th>start_station_name</th>\n",
       "      <th>start_station_id</th>\n",
       "      <th>end_station_name</th>\n",
       "      <th>end_station_id</th>\n",
       "      <th>start_lat</th>\n",
       "      <th>start_lng</th>\n",
       "      <th>end_lat</th>\n",
       "      <th>end_lng</th>\n",
       "      <th>member_casual</th>\n",
       "    </tr>\n",
       "  </thead>\n",
       "  <tbody>\n",
       "    <tr>\n",
       "      <th>603</th>\n",
       "      <td>A1B0885683D4B4CC</td>\n",
       "      <td>classic_bike</td>\n",
       "      <td>2023-10-13 18:31:25</td>\n",
       "      <td>2023-10-13 18:54:00</td>\n",
       "      <td>Streeter Dr &amp; Grand Ave</td>\n",
       "      <td>13022</td>\n",
       "      <td>Larrabee St &amp; Webster Ave</td>\n",
       "      <td>13193</td>\n",
       "      <td>41.892278</td>\n",
       "      <td>-87.612043</td>\n",
       "      <td>41.921822</td>\n",
       "      <td>-87.644140</td>\n",
       "      <td>member</td>\n",
       "    </tr>\n",
       "    <tr>\n",
       "      <th>608</th>\n",
       "      <td>8BECFAB67F1FA81D</td>\n",
       "      <td>classic_bike</td>\n",
       "      <td>2023-10-22 17:44:50</td>\n",
       "      <td>2023-10-22 18:09:05</td>\n",
       "      <td>Streeter Dr &amp; Grand Ave</td>\n",
       "      <td>13022</td>\n",
       "      <td>Larrabee St &amp; Webster Ave</td>\n",
       "      <td>13193</td>\n",
       "      <td>41.892278</td>\n",
       "      <td>-87.612043</td>\n",
       "      <td>41.921822</td>\n",
       "      <td>-87.644140</td>\n",
       "      <td>casual</td>\n",
       "    </tr>\n",
       "    <tr>\n",
       "      <th>1042</th>\n",
       "      <td>BE2395919F04F1E0</td>\n",
       "      <td>electric_bike</td>\n",
       "      <td>2023-10-28 15:56:13</td>\n",
       "      <td>2023-10-28 16:15:34</td>\n",
       "      <td>Streeter Dr &amp; Grand Ave</td>\n",
       "      <td>13022</td>\n",
       "      <td>Aberdeen St &amp; Randolph St</td>\n",
       "      <td>18062</td>\n",
       "      <td>41.892319</td>\n",
       "      <td>-87.612234</td>\n",
       "      <td>41.884114</td>\n",
       "      <td>-87.654264</td>\n",
       "      <td>member</td>\n",
       "    </tr>\n",
       "    <tr>\n",
       "      <th>1198</th>\n",
       "      <td>8527F766D559425F</td>\n",
       "      <td>electric_bike</td>\n",
       "      <td>2023-10-28 15:55:45</td>\n",
       "      <td>2023-10-28 16:15:36</td>\n",
       "      <td>Streeter Dr &amp; Grand Ave</td>\n",
       "      <td>13022</td>\n",
       "      <td>Aberdeen St &amp; Randolph St</td>\n",
       "      <td>18062</td>\n",
       "      <td>41.892313</td>\n",
       "      <td>-87.612226</td>\n",
       "      <td>41.884114</td>\n",
       "      <td>-87.654264</td>\n",
       "      <td>member</td>\n",
       "    </tr>\n",
       "    <tr>\n",
       "      <th>1200</th>\n",
       "      <td>A4A3170B63E200BB</td>\n",
       "      <td>electric_bike</td>\n",
       "      <td>2023-10-23 18:26:25</td>\n",
       "      <td>2023-10-23 18:41:07</td>\n",
       "      <td>Streeter Dr &amp; Grand Ave</td>\n",
       "      <td>13022</td>\n",
       "      <td>Larrabee St &amp; Webster Ave</td>\n",
       "      <td>13193</td>\n",
       "      <td>41.892294</td>\n",
       "      <td>-87.612193</td>\n",
       "      <td>41.921822</td>\n",
       "      <td>-87.644140</td>\n",
       "      <td>member</td>\n",
       "    </tr>\n",
       "  </tbody>\n",
       "</table>\n",
       "</div>"
      ],
      "text/plain": [
       "               ride_id  rideable_type           started_at  \\\n",
       "603   A1B0885683D4B4CC   classic_bike  2023-10-13 18:31:25   \n",
       "608   8BECFAB67F1FA81D   classic_bike  2023-10-22 17:44:50   \n",
       "1042  BE2395919F04F1E0  electric_bike  2023-10-28 15:56:13   \n",
       "1198  8527F766D559425F  electric_bike  2023-10-28 15:55:45   \n",
       "1200  A4A3170B63E200BB  electric_bike  2023-10-23 18:26:25   \n",
       "\n",
       "                 ended_at       start_station_name start_station_id  \\\n",
       "603   2023-10-13 18:54:00  Streeter Dr & Grand Ave            13022   \n",
       "608   2023-10-22 18:09:05  Streeter Dr & Grand Ave            13022   \n",
       "1042  2023-10-28 16:15:34  Streeter Dr & Grand Ave            13022   \n",
       "1198  2023-10-28 16:15:36  Streeter Dr & Grand Ave            13022   \n",
       "1200  2023-10-23 18:41:07  Streeter Dr & Grand Ave            13022   \n",
       "\n",
       "               end_station_name end_station_id  start_lat  start_lng  \\\n",
       "603   Larrabee St & Webster Ave          13193  41.892278 -87.612043   \n",
       "608   Larrabee St & Webster Ave          13193  41.892278 -87.612043   \n",
       "1042  Aberdeen St & Randolph St          18062  41.892319 -87.612234   \n",
       "1198  Aberdeen St & Randolph St          18062  41.892313 -87.612226   \n",
       "1200  Larrabee St & Webster Ave          13193  41.892294 -87.612193   \n",
       "\n",
       "        end_lat    end_lng member_casual  \n",
       "603   41.921822 -87.644140        member  \n",
       "608   41.921822 -87.644140        casual  \n",
       "1042  41.884114 -87.654264        member  \n",
       "1198  41.884114 -87.654264        member  \n",
       "1200  41.921822 -87.644140        member  "
      ]
     },
     "execution_count": 538,
     "metadata": {},
     "output_type": "execute_result"
    }
   ],
   "source": [
    "# take out just these top stations from the data\n",
    "divd = data[(data['start_station_id'].isin(stats)) | (data['end_station_id'].isin(stats))]\n",
    "divd.head()"
   ]
  },
  {
   "cell_type": "code",
   "execution_count": 539,
   "metadata": {},
   "outputs": [
    {
     "name": "stdout",
     "output_type": "stream",
     "text": [
      "Index(['ride_id', 'rideable_type', 'started_at', 'ended_at',\n",
      "       'start_station_name', 'start_station_id', 'end_station_name',\n",
      "       'end_station_id', 'start_lat', 'start_lng', 'end_lat', 'end_lng',\n",
      "       'member_casual'],\n",
      "      dtype='object')\n"
     ]
    }
   ],
   "source": [
    "print(divd.columns)"
   ]
  },
  {
   "cell_type": "code",
   "execution_count": 540,
   "metadata": {},
   "outputs": [
    {
     "data": {
      "text/html": [
       "<div>\n",
       "<style scoped>\n",
       "    .dataframe tbody tr th:only-of-type {\n",
       "        vertical-align: middle;\n",
       "    }\n",
       "\n",
       "    .dataframe tbody tr th {\n",
       "        vertical-align: top;\n",
       "    }\n",
       "\n",
       "    .dataframe thead th {\n",
       "        text-align: right;\n",
       "    }\n",
       "</style>\n",
       "<table border=\"1\" class=\"dataframe\">\n",
       "  <thead>\n",
       "    <tr style=\"text-align: right;\">\n",
       "      <th></th>\n",
       "      <th>started_at</th>\n",
       "      <th>ended_at</th>\n",
       "      <th>start_station_name</th>\n",
       "      <th>start_station_id</th>\n",
       "      <th>end_station_name</th>\n",
       "      <th>end_station_id</th>\n",
       "    </tr>\n",
       "  </thead>\n",
       "  <tbody>\n",
       "    <tr>\n",
       "      <th>603</th>\n",
       "      <td>2023-10-13 18:31:25</td>\n",
       "      <td>2023-10-13 18:54:00</td>\n",
       "      <td>Streeter Dr &amp; Grand Ave</td>\n",
       "      <td>13022</td>\n",
       "      <td>Larrabee St &amp; Webster Ave</td>\n",
       "      <td>13193</td>\n",
       "    </tr>\n",
       "    <tr>\n",
       "      <th>608</th>\n",
       "      <td>2023-10-22 17:44:50</td>\n",
       "      <td>2023-10-22 18:09:05</td>\n",
       "      <td>Streeter Dr &amp; Grand Ave</td>\n",
       "      <td>13022</td>\n",
       "      <td>Larrabee St &amp; Webster Ave</td>\n",
       "      <td>13193</td>\n",
       "    </tr>\n",
       "    <tr>\n",
       "      <th>1042</th>\n",
       "      <td>2023-10-28 15:56:13</td>\n",
       "      <td>2023-10-28 16:15:34</td>\n",
       "      <td>Streeter Dr &amp; Grand Ave</td>\n",
       "      <td>13022</td>\n",
       "      <td>Aberdeen St &amp; Randolph St</td>\n",
       "      <td>18062</td>\n",
       "    </tr>\n",
       "    <tr>\n",
       "      <th>1198</th>\n",
       "      <td>2023-10-28 15:55:45</td>\n",
       "      <td>2023-10-28 16:15:36</td>\n",
       "      <td>Streeter Dr &amp; Grand Ave</td>\n",
       "      <td>13022</td>\n",
       "      <td>Aberdeen St &amp; Randolph St</td>\n",
       "      <td>18062</td>\n",
       "    </tr>\n",
       "    <tr>\n",
       "      <th>1200</th>\n",
       "      <td>2023-10-23 18:26:25</td>\n",
       "      <td>2023-10-23 18:41:07</td>\n",
       "      <td>Streeter Dr &amp; Grand Ave</td>\n",
       "      <td>13022</td>\n",
       "      <td>Larrabee St &amp; Webster Ave</td>\n",
       "      <td>13193</td>\n",
       "    </tr>\n",
       "  </tbody>\n",
       "</table>\n",
       "</div>"
      ],
      "text/plain": [
       "               started_at             ended_at       start_station_name  \\\n",
       "603   2023-10-13 18:31:25  2023-10-13 18:54:00  Streeter Dr & Grand Ave   \n",
       "608   2023-10-22 17:44:50  2023-10-22 18:09:05  Streeter Dr & Grand Ave   \n",
       "1042  2023-10-28 15:56:13  2023-10-28 16:15:34  Streeter Dr & Grand Ave   \n",
       "1198  2023-10-28 15:55:45  2023-10-28 16:15:36  Streeter Dr & Grand Ave   \n",
       "1200  2023-10-23 18:26:25  2023-10-23 18:41:07  Streeter Dr & Grand Ave   \n",
       "\n",
       "     start_station_id           end_station_name end_station_id  \n",
       "603             13022  Larrabee St & Webster Ave          13193  \n",
       "608             13022  Larrabee St & Webster Ave          13193  \n",
       "1042            13022  Aberdeen St & Randolph St          18062  \n",
       "1198            13022  Aberdeen St & Randolph St          18062  \n",
       "1200            13022  Larrabee St & Webster Ave          13193  "
      ]
     },
     "execution_count": 540,
     "metadata": {},
     "output_type": "execute_result"
    }
   ],
   "source": [
    "# don't need ride_id, rideable_type, start_lat, start_lng, end_lat, end_lng, or member_casual\n",
    "divd = divd[['started_at', 'ended_at', 'start_station_name', 'start_station_id', 'end_station_name', 'end_station_id']]\n",
    "divd.head()"
   ]
  },
  {
   "cell_type": "code",
   "execution_count": 541,
   "metadata": {},
   "outputs": [
    {
     "data": {
      "text/html": [
       "<div>\n",
       "<style scoped>\n",
       "    .dataframe tbody tr th:only-of-type {\n",
       "        vertical-align: middle;\n",
       "    }\n",
       "\n",
       "    .dataframe tbody tr th {\n",
       "        vertical-align: top;\n",
       "    }\n",
       "\n",
       "    .dataframe thead th {\n",
       "        text-align: right;\n",
       "    }\n",
       "</style>\n",
       "<table border=\"1\" class=\"dataframe\">\n",
       "  <thead>\n",
       "    <tr style=\"text-align: right;\">\n",
       "      <th></th>\n",
       "      <th>start_station_name</th>\n",
       "      <th>start_station_id</th>\n",
       "      <th>end_station_name</th>\n",
       "      <th>end_station_id</th>\n",
       "      <th>day</th>\n",
       "      <th>month</th>\n",
       "      <th>hours</th>\n",
       "      <th>hour</th>\n",
       "    </tr>\n",
       "  </thead>\n",
       "  <tbody>\n",
       "    <tr>\n",
       "      <th>603</th>\n",
       "      <td>Streeter Dr &amp; Grand Ave</td>\n",
       "      <td>13022</td>\n",
       "      <td>Larrabee St &amp; Webster Ave</td>\n",
       "      <td>13193</td>\n",
       "      <td>Friday</td>\n",
       "      <td>October</td>\n",
       "      <td>18</td>\n",
       "      <td>18</td>\n",
       "    </tr>\n",
       "    <tr>\n",
       "      <th>608</th>\n",
       "      <td>Streeter Dr &amp; Grand Ave</td>\n",
       "      <td>13022</td>\n",
       "      <td>Larrabee St &amp; Webster Ave</td>\n",
       "      <td>13193</td>\n",
       "      <td>Sunday</td>\n",
       "      <td>October</td>\n",
       "      <td>17</td>\n",
       "      <td>17</td>\n",
       "    </tr>\n",
       "    <tr>\n",
       "      <th>1042</th>\n",
       "      <td>Streeter Dr &amp; Grand Ave</td>\n",
       "      <td>13022</td>\n",
       "      <td>Aberdeen St &amp; Randolph St</td>\n",
       "      <td>18062</td>\n",
       "      <td>Saturday</td>\n",
       "      <td>October</td>\n",
       "      <td>15</td>\n",
       "      <td>15</td>\n",
       "    </tr>\n",
       "    <tr>\n",
       "      <th>1198</th>\n",
       "      <td>Streeter Dr &amp; Grand Ave</td>\n",
       "      <td>13022</td>\n",
       "      <td>Aberdeen St &amp; Randolph St</td>\n",
       "      <td>18062</td>\n",
       "      <td>Saturday</td>\n",
       "      <td>October</td>\n",
       "      <td>15</td>\n",
       "      <td>15</td>\n",
       "    </tr>\n",
       "    <tr>\n",
       "      <th>1200</th>\n",
       "      <td>Streeter Dr &amp; Grand Ave</td>\n",
       "      <td>13022</td>\n",
       "      <td>Larrabee St &amp; Webster Ave</td>\n",
       "      <td>13193</td>\n",
       "      <td>Monday</td>\n",
       "      <td>October</td>\n",
       "      <td>18</td>\n",
       "      <td>18</td>\n",
       "    </tr>\n",
       "  </tbody>\n",
       "</table>\n",
       "</div>"
      ],
      "text/plain": [
       "           start_station_name start_station_id           end_station_name  \\\n",
       "603   Streeter Dr & Grand Ave            13022  Larrabee St & Webster Ave   \n",
       "608   Streeter Dr & Grand Ave            13022  Larrabee St & Webster Ave   \n",
       "1042  Streeter Dr & Grand Ave            13022  Aberdeen St & Randolph St   \n",
       "1198  Streeter Dr & Grand Ave            13022  Aberdeen St & Randolph St   \n",
       "1200  Streeter Dr & Grand Ave            13022  Larrabee St & Webster Ave   \n",
       "\n",
       "     end_station_id       day    month hours hour  \n",
       "603           13193    Friday  October    18   18  \n",
       "608           13193    Sunday  October    17   17  \n",
       "1042          18062  Saturday  October    15   15  \n",
       "1198          18062  Saturday  October    15   15  \n",
       "1200          13193    Monday  October    18   18  "
      ]
     },
     "execution_count": 541,
     "metadata": {},
     "output_type": "execute_result"
    }
   ],
   "source": [
    "# need to change started_at to month day and time\n",
    "divd['started_at'] = pd.to_datetime(divd['started_at'])\n",
    "\n",
    "divd['day'] = divd['started_at'].dt.day_name()\n",
    "\n",
    "divd['month'] = divd['started_at'].dt.month_name()\n",
    "\n",
    "divd['hours'] = divd['started_at'].map(lambda x: str(x)[11:13])\n",
    "divd['hour'] = divd['hours']\n",
    "\n",
    "divd.drop('started_at', axis=1, inplace=True)\n",
    "divd.drop('ended_at', axis=1, inplace=True)\n",
    "divd.head()"
   ]
  },
  {
   "cell_type": "code",
   "execution_count": 542,
   "metadata": {},
   "outputs": [
    {
     "name": "stdout",
     "output_type": "stream",
     "text": [
      "Index(['start_station_name', 'hours', 'count'], dtype='object')\n"
     ]
    },
    {
     "data": {
      "text/html": [
       "<div>\n",
       "<style scoped>\n",
       "    .dataframe tbody tr th:only-of-type {\n",
       "        vertical-align: middle;\n",
       "    }\n",
       "\n",
       "    .dataframe tbody tr th {\n",
       "        vertical-align: top;\n",
       "    }\n",
       "\n",
       "    .dataframe thead th {\n",
       "        text-align: right;\n",
       "    }\n",
       "</style>\n",
       "<table border=\"1\" class=\"dataframe\">\n",
       "  <thead>\n",
       "    <tr style=\"text-align: right;\">\n",
       "      <th></th>\n",
       "      <th>start_station_name</th>\n",
       "      <th>hours</th>\n",
       "      <th>count</th>\n",
       "    </tr>\n",
       "    <tr>\n",
       "      <th>start_station_name</th>\n",
       "      <th></th>\n",
       "      <th></th>\n",
       "      <th></th>\n",
       "    </tr>\n",
       "  </thead>\n",
       "  <tbody>\n",
       "    <tr>\n",
       "      <th>63rd St Beach</th>\n",
       "      <td>63rd St Beach</td>\n",
       "      <td>10</td>\n",
       "      <td>2</td>\n",
       "    </tr>\n",
       "    <tr>\n",
       "      <th>900 W Harrison St</th>\n",
       "      <td>900 W Harrison St</td>\n",
       "      <td>05</td>\n",
       "      <td>1</td>\n",
       "    </tr>\n",
       "    <tr>\n",
       "      <th>900 W Harrison St</th>\n",
       "      <td>900 W Harrison St</td>\n",
       "      <td>06</td>\n",
       "      <td>1</td>\n",
       "    </tr>\n",
       "    <tr>\n",
       "      <th>900 W Harrison St</th>\n",
       "      <td>900 W Harrison St</td>\n",
       "      <td>08</td>\n",
       "      <td>2</td>\n",
       "    </tr>\n",
       "    <tr>\n",
       "      <th>900 W Harrison St</th>\n",
       "      <td>900 W Harrison St</td>\n",
       "      <td>09</td>\n",
       "      <td>1</td>\n",
       "    </tr>\n",
       "  </tbody>\n",
       "</table>\n",
       "</div>"
      ],
      "text/plain": [
       "                   start_station_name hours  count\n",
       "start_station_name                                \n",
       "63rd St Beach           63rd St Beach    10      2\n",
       "900 W Harrison St   900 W Harrison St    05      1\n",
       "900 W Harrison St   900 W Harrison St    06      1\n",
       "900 W Harrison St   900 W Harrison St    08      2\n",
       "900 W Harrison St   900 W Harrison St    09      1"
      ]
     },
     "execution_count": 542,
     "metadata": {},
     "output_type": "execute_result"
    }
   ],
   "source": [
    "#divd['hour'] = divd['hours']\n",
    "# group by starting station and the hour\n",
    "divd = pd.DataFrame(divd.groupby(['start_station_name', 'hours'])['hour'].count())\n",
    "divd = divd.rename(columns={'hour':'count'})\n",
    "divd = divd.reset_index()\n",
    "divd.index = divd['start_station_name']\n",
    "print(divd.columns)\n",
    "divd.head()"
   ]
  },
  {
   "cell_type": "code",
   "execution_count": 543,
   "metadata": {},
   "outputs": [
    {
     "data": {
      "image/png": "[encoded data removed]",
      "text/plain": [
       "<Figure size 1200x600 with 1 Axes>"
      ]
     },
     "metadata": {},
     "output_type": "display_data"
    }
   ],
   "source": [
    "import matplotlib.pyplot as plt\n",
    "\n",
    "# Assuming you have already run the groupby and reset_index operations\n",
    "# divd = pd.DataFrame(divd.groupby(['start_station_name', 'hours'])['hour'].count())\n",
    "# divd = divd.rename(columns={'hour':'count'})\n",
    "# divd = divd.reset_index()\n",
    "\n",
    "# Plotting the target column\n",
    "plt.figure(figsize=(12, 6))\n",
    "plt.scatter(divd.index, divd['count'], alpha=0.5)\n",
    "plt.title('Count of Rides by Start Station and Hour')\n",
    "plt.xlabel('Index (Grouped by Start Station and Hour)')\n",
    "plt.ylabel('Count')\n",
    "plt.show()"
   ]
  },
  {
   "cell_type": "code",
   "execution_count": 544,
   "metadata": {},
   "outputs": [
    {
     "name": "stdout",
     "output_type": "stream",
     "text": [
      "Training set shapes: xtrain:  (1522, 232)  ytrain:  (1522,)\n",
      "Testing set shapes: xtest:  (381, 232) ytest (381,)\n",
      "[-1.06452208e-01 -1.64375070e+00  2.97251062e-01  2.25353571e-01\n",
      " -1.42956782e+00 -4.17461410e-01  2.06132444e+00 -5.65580512e-01\n",
      " -4.35395999e-01  8.43761874e-02  1.81661538e+00 -2.07906330e-01\n",
      "  2.32323776e+00  2.72368898e-01  1.91283998e+00  6.62329127e-01\n",
      "  2.86077514e-01 -6.65760662e-01  1.23719727e+00  9.28076949e-02\n",
      "  1.21408949e+00 -2.17861231e-01  1.54265709e+00 -4.82893641e-01\n",
      "  4.63208482e-01  1.03006744e+00 -8.36323872e-01 -2.26941959e-01\n",
      " -1.83161089e+00  1.54136192e+00 -2.54687932e-02  3.12716460e-01\n",
      " -7.95492293e-01 -9.62426924e-01  1.24553434e+00  2.06261986e+00\n",
      " -1.09240095e-01 -3.26920014e-01 -1.96528771e+00 -1.70812032e-01\n",
      " -1.06770206e+00  9.48694303e-01  2.70735359e-01  2.75046440e-01\n",
      " -3.26843043e-02  4.54130727e-01  3.74654914e-01  1.16196732e-01\n",
      " -5.61577177e-01 -1.39316351e+00  2.70594201e+00  9.58483494e-01\n",
      " -8.98204391e-01  1.06025144e+00  1.79488319e+00 -1.99748470e+00\n",
      "  6.82535823e-02 -6.02191642e-02  6.62523737e-01 -3.29207422e-02\n",
      "  2.51928757e-01  1.38992267e+00 -1.51621816e+00 -5.87547556e-01\n",
      "  4.20900929e-01 -5.60279819e-01  5.33438278e-02 -6.98276667e-02\n",
      "  1.99328198e-01 -8.69672036e-02  8.76642884e-01 -1.12934885e+00\n",
      "  3.03928748e-01 -7.21867563e-01  8.47480146e-01 -1.40954699e+00\n",
      " -1.20252006e+00  2.07085909e+00  7.26306359e-01 -6.82575711e-01\n",
      "  1.12660272e-01  1.36010751e+00 -2.24756932e-01 -6.91395133e-02\n",
      " -6.78936049e-01 -3.47055461e-02 -1.37590841e+00 -5.13366991e-01\n",
      " -5.98274343e-01  1.20532222e-01  2.39800105e+00 -1.14389073e+00\n",
      "  2.19992280e-01 -3.04586426e-01 -1.34524788e+00 -1.12571583e+00\n",
      " -9.46699765e-01  9.03785168e-01  1.49633063e-01 -7.51469653e-01\n",
      "  3.28502416e-01  1.27010962e+00  1.29518034e+00  8.98507962e-01\n",
      " -9.48221251e-02 -1.37347107e+00 -4.07499701e-01  3.02457472e+00\n",
      " -6.33267811e-01 -6.43954857e-02  4.18428065e-01 -4.97687471e-01\n",
      "  6.78365620e-01 -7.87050668e-01 -9.96488334e-01  8.43486517e-01\n",
      " -1.18981055e+00 -1.44694716e+00  3.43670672e-01  8.73837646e-01\n",
      "  1.47380965e+00  1.92046078e-01 -7.28143455e-01 -4.19687424e-01\n",
      " -1.04148464e+00 -4.70063102e-01 -2.61637146e+00  5.38533266e-01\n",
      "  3.13751355e-01  7.78143168e-01  1.38181294e+00  9.42970678e-01\n",
      " -1.20745522e+00  1.33767096e-01 -1.11560950e+00  6.67297577e-02\n",
      "  8.56839496e-01  1.34394433e+00  6.89688864e-02  9.48370781e-01\n",
      " -3.20949484e-01 -2.53864958e+00 -1.33772383e+00  4.88732570e-01\n",
      " -6.89783358e-01 -9.93287762e-01 -8.82329456e-01 -1.64499162e+00\n",
      " -1.98194299e+00  1.14053130e+00  4.16760666e-02  4.04270982e-01\n",
      "  1.89280500e-01 -5.83420866e-01 -4.25341473e-01  5.66681643e-04\n",
      " -5.98389913e-01 -1.50296384e+00 -1.16072296e+00  8.02981005e-02\n",
      " -1.65752051e+00  6.59836801e-01 -7.80641334e-01 -1.17232215e+00\n",
      " -1.64726617e+00 -2.29219024e-01  2.73450621e+00  7.21829567e-01\n",
      " -3.80472241e-01  1.94697781e-01  3.70423987e+00 -1.23145286e+00\n",
      "  1.56774920e+00 -2.67225121e-01 -1.47614769e+00  2.11855397e-01\n",
      " -3.86532008e-01  1.18551340e+00 -2.28945681e-02 -1.22844996e+00\n",
      " -1.52554836e-01 -1.41885445e-02 -2.24626852e+00 -5.09768072e-01\n",
      " -8.43682038e-01 -2.01889685e+00 -1.75107891e-01  1.55496284e-01\n",
      " -9.60780904e-01  8.76800156e-02  8.05647957e-01  3.32130596e-01\n",
      " -2.69539140e-01  3.54440330e-01  5.23549458e-01  8.91271602e-01\n",
      " -9.57514993e-01  1.48692738e+00 -8.68260901e-03  1.25283670e+00\n",
      " -2.17940618e+00 -2.14512637e-01  4.12598198e+00  9.02849841e-01\n",
      "  5.19565450e-01  4.36549215e-01 -1.43134481e+00 -9.23071045e-01\n",
      "  6.85328929e-01 -1.06106299e-01 -3.43244966e-01 -7.88386698e-01\n",
      " -1.03177182e+00 -1.46039902e+00 -8.77177941e-01  1.31895186e+00\n",
      "  1.32318565e+00  3.94135281e-01  4.09568918e-01 -1.34355801e+00\n",
      "  1.22517378e+00  2.59701822e-01  9.77681777e-01  3.89671293e-01\n",
      " -4.22511332e-01  1.12728038e+00 -1.55889263e+00 -1.03282313e-01\n",
      " -2.35371203e-01  6.93603292e-01  9.08663153e-01 -1.31735044e-03]\n",
      "[2.5835353]\n"
     ]
    }
   ],
   "source": [
    "from sklearn.model_selection import train_test_split\n",
    "# split into train and test data using sklearn.model_selection\n",
    "features = ['start_station_name', 'hours']\n",
    "X = pd.get_dummies(divd[features], columns=['start_station_name'], drop_first=True)\n",
    "y = divd['count']\n",
    "xtrain, xtest, ytrain, ytest = train_test_split(X, y, test_size=0.2, random_state=42)\n",
    "# xtrain = xtrain.to_numpy()\n",
    "print(\"Training set shapes: xtrain: \", xtrain.shape, \" ytrain: \", ytrain.shape)\n",
    "print(\"Testing set shapes: xtest: \", xtest.shape, \"ytest\", ytest.shape)\n",
    "weights = np.random.normal(0, 1, xtrain.shape[1])\n",
    "bias = np.random.normal(0, 1, 1)\n",
    "print(weights)\n",
    "print(bias)"
   ]
  },
  {
   "cell_type": "code",
   "execution_count": 545,
   "metadata": {},
   "outputs": [],
   "source": [
    "# Create a Decision Tree Regressor\n",
    "tree_model = DecisionTreeRegressor(random_state=42)"
   ]
  },
  {
   "cell_type": "code",
   "execution_count": 546,
   "metadata": {},
   "outputs": [
    {
     "data": {
      "text/html": [
       "<style>#sk-container-id-7 {color: black;}#sk-container-id-7 pre{padding: 0;}#sk-container-id-7 div.sk-toggleable {background-color: white;}#sk-container-id-7 label.sk-toggleable__label {cursor: pointer;display: block;width: 100%;margin-bottom: 0;padding: 0.3em;box-sizing: border-box;text-align: center;}#sk-container-id-7 label.sk-toggleable__label-arrow:before {content: \"▸\";float: left;margin-right: 0.25em;color: #696969;}#sk-container-id-7 label.sk-toggleable__label-arrow:hover:before {color: black;}#sk-container-id-7 div.sk-estimator:hover label.sk-toggleable__label-arrow:before {color: black;}#sk-container-id-7 div.sk-toggleable__content {max-height: 0;max-width: 0;overflow: hidden;text-align: left;background-color: #f0f8ff;}#sk-container-id-7 div.sk-toggleable__content pre {margin: 0.2em;color: black;border-radius: 0.25em;background-color: #f0f8ff;}#sk-container-id-7 input.sk-toggleable__control:checked~div.sk-toggleable__content {max-height: 200px;max-width: 100%;overflow: auto;}#sk-container-id-7 input.sk-toggleable__control:checked~label.sk-toggleable__label-arrow:before {content: \"▾\";}#sk-container-id-7 div.sk-estimator input.sk-toggleable__control:checked~label.sk-toggleable__label {background-color: #d4ebff;}#sk-container-id-7 div.sk-label input.sk-toggleable__control:checked~label.sk-toggleable__label {background-color: #d4ebff;}#sk-container-id-7 input.sk-hidden--visually {border: 0;clip: rect(1px 1px 1px 1px);clip: rect(1px, 1px, 1px, 1px);height: 1px;margin: -1px;overflow: hidden;padding: 0;position: absolute;width: 1px;}#sk-container-id-7 div.sk-estimator {font-family: monospace;background-color: #f0f8ff;border: 1px dotted black;border-radius: 0.25em;box-sizing: border-box;margin-bottom: 0.5em;}#sk-container-id-7 div.sk-estimator:hover {background-color: #d4ebff;}#sk-container-id-7 div.sk-parallel-item::after {content: \"\";width: 100%;border-bottom: 1px solid gray;flex-grow: 1;}#sk-container-id-7 div.sk-label:hover label.sk-toggleable__label {background-color: #d4ebff;}#sk-container-id-7 div.sk-serial::before {content: \"\";position: absolute;border-left: 1px solid gray;box-sizing: border-box;top: 0;bottom: 0;left: 50%;z-index: 0;}#sk-container-id-7 div.sk-serial {display: flex;flex-direction: column;align-items: center;background-color: white;padding-right: 0.2em;padding-left: 0.2em;position: relative;}#sk-container-id-7 div.sk-item {position: relative;z-index: 1;}#sk-container-id-7 div.sk-parallel {display: flex;align-items: stretch;justify-content: center;background-color: white;position: relative;}#sk-container-id-7 div.sk-item::before, #sk-container-id-7 div.sk-parallel-item::before {content: \"\";position: absolute;border-left: 1px solid gray;box-sizing: border-box;top: 0;bottom: 0;left: 50%;z-index: -1;}#sk-container-id-7 div.sk-parallel-item {display: flex;flex-direction: column;z-index: 1;position: relative;background-color: white;}#sk-container-id-7 div.sk-parallel-item:first-child::after {align-self: flex-end;width: 50%;}#sk-container-id-7 div.sk-parallel-item:last-child::after {align-self: flex-start;width: 50%;}#sk-container-id-7 div.sk-parallel-item:only-child::after {width: 0;}#sk-container-id-7 div.sk-dashed-wrapped {border: 1px dashed gray;margin: 0 0.4em 0.5em 0.4em;box-sizing: border-box;padding-bottom: 0.4em;background-color: white;}#sk-container-id-7 div.sk-label label {font-family: monospace;font-weight: bold;display: inline-block;line-height: 1.2em;}#sk-container-id-7 div.sk-label-container {text-align: center;}#sk-container-id-7 div.sk-container {/* jupyter's `normalize.less` sets `[hidden] { display: none; }` but bootstrap.min.css set `[hidden] { display: none !important; }` so we also need the `!important` here to be able to override the default hidden behavior on the sphinx rendered scikit-learn.org. See: https://github.com/scikit-learn/scikit-learn/issues/21755 */display: inline-block !important;position: relative;}#sk-container-id-7 div.sk-text-repr-fallback {display: none;}</style><div id=\"sk-container-id-7\" class=\"sk-top-container\"><div class=\"sk-text-repr-fallback\"><pre>DecisionTreeRegressor(random_state=42)</pre><b>In a Jupyter environment, please rerun this cell to show the HTML representation or trust the notebook. <br />On GitHub, the HTML representation is unable to render, please try loading this page with nbviewer.org.</b></div><div class=\"sk-container\" hidden><div class=\"sk-item\"><div class=\"sk-estimator sk-toggleable\"><input class=\"sk-toggleable__control sk-hidden--visually\" id=\"sk-estimator-id-7\" type=\"checkbox\" checked><label for=\"sk-estimator-id-7\" class=\"sk-toggleable__label sk-toggleable__label-arrow\">DecisionTreeRegressor</label><div class=\"sk-toggleable__content\"><pre>DecisionTreeRegressor(random_state=42)</pre></div></div></div></div></div>"
      ],
      "text/plain": [
       "DecisionTreeRegressor(random_state=42)"
      ]
     },
     "execution_count": 546,
     "metadata": {},
     "output_type": "execute_result"
    }
   ],
   "source": [
    "# Train the model\n",
    "tree_model.fit(xtrain, ytrain)"
   ]
  },
  {
   "cell_type": "code",
   "execution_count": 547,
   "metadata": {},
   "outputs": [],
   "source": [
    "# Predict on the test set\n",
    "y_pred = tree_model.predict(xtest)"
   ]
  },
  {
   "cell_type": "code",
   "execution_count": 548,
   "metadata": {},
   "outputs": [
    {
     "name": "stdout",
     "output_type": "stream",
     "text": [
      "Mean Squared Error: 80.85826771653544\n",
      "R-squared: 0.7999080844623294\n"
     ]
    }
   ],
   "source": [
    "# Evaluate the model\n",
    "mse = mean_squared_error(ytest, y_pred)\n",
    "r2 = r2_score(ytest, y_pred)\n",
    "\n",
    "print(f'Mean Squared Error: {mse}')\n",
    "print(f'R-squared: {r2}')"
   ]
  },
  {
   "cell_type": "code",
   "execution_count": 549,
   "metadata": {},
   "outputs": [
    {
     "name": "stdout",
     "output_type": "stream",
     "text": [
      "Cross-validation Scores: [-0.18578454 -0.13012444 -0.06895957 -0.16735423 -0.11044304]\n"
     ]
    }
   ],
   "source": [
    "# Cross-validation\n",
    "cv_scores = cross_val_score(tree_model, X, y, cv=5)\n",
    "print(f'Cross-validation Scores: {cv_scores}')"
   ]
  },
  {
   "cell_type": "code",
   "execution_count": 550,
   "metadata": {},
   "outputs": [
    {
     "name": "stdout",
     "output_type": "stream",
     "text": [
      "Feature Importances:\n",
      "                                               Feature  Importance\n",
      "0                                                hours    0.483260\n",
      "207         start_station_name_Streeter Dr & Grand Ave    0.177193\n",
      "99   start_station_name_DuSable Lake Shore Dr & Mon...    0.093948\n",
      "185                  start_station_name_Shedd Aquarium    0.060209\n",
      "200              start_station_name_State St & 33rd St    0.032891\n"
     ]
    }
   ],
   "source": [
    "# Feature importances\n",
    "feature_importances = pd.DataFrame({'Feature': X.columns, 'Importance': tree_model.feature_importances_})\n",
    "feature_importances = feature_importances.sort_values('Importance', ascending=False)\n",
    "print('Feature Importances:')\n",
    "print(feature_importances.head())"
   ]
  },
  {
   "cell_type": "code",
   "execution_count": 551,
   "metadata": {},
   "outputs": [
    {
     "name": "stdout",
     "output_type": "stream",
     "text": [
      "Accuracy: 0.8136482939632546\n"
     ]
    }
   ],
   "source": [
    "# Set a threshold to classify as high or low\n",
    "threshold = 5  # You can adjust this threshold based on your problem\n",
    "\n",
    "# Convert regression predictions to binary classification\n",
    "y_pred_class = (y_pred > threshold).astype(int)\n",
    "ytest_class = (ytest > threshold).astype(int)\n",
    "\n",
    "# Calculate accuracy\n",
    "accuracy = np.mean(y_pred_class == ytest_class)\n",
    "\n",
    "print(f'Accuracy: {accuracy}')"
   ]
  },
  {
   "cell_type": "code",
   "execution_count": 572,
   "metadata": {},
   "outputs": [
    {
     "name": "stdout",
     "output_type": "stream",
     "text": [
      "Mean Squared Error:  1.321945968642283e+25\n",
      "R-Squared:  -3.2712882500801286e+22\n",
      "Testing Accuracy:  1.0\n"
     ]
    },
    {
     "data": {
      "image/png": "[encoded data removed]",
      "text/plain": [
       "<Figure size 640x480 with 1 Axes>"
      ]
     },
     "metadata": {},
     "output_type": "display_data"
    }
   ],
   "source": [
    "\n",
    "lrm = LinearRegression()\n",
    "lrm.fit(xtrain, ytrain)\n",
    "predict = lrm.predict(xtest)\n",
    "mse = mean_squared_error(ytest, predict)\n",
    "r2 = r2_score(ytest, predict)\n",
    "print(\"Mean Squared Error: \", mse)\n",
    "print(\"R-Squared: \", r2)\n",
    "print('Testing Accuracy: ', lrm.score(xtest, predict))\n",
    "\n",
    "plt.scatter(ytest, predict)\n",
    "plt.xlabel('Actual y Value')\n",
    "plt.ylabel('Predicted y Value')\n",
    "plt.show()"
   ]
  },
  {
   "cell_type": "code",
   "execution_count": 571,
   "metadata": {},
   "outputs": [
    {
     "name": "stdout",
     "output_type": "stream",
     "text": [
      "Accuracy: 0.905511811023622\n"
     ]
    }
   ],
   "source": [
    "# Set a threshold to classify as high or low\n",
    "threshold = 10  # You can adjust this threshold based on your problem\n",
    "\n",
    "# Convert regression predictions to binary classification\n",
    "pred_class = (predict > threshold).astype(int)\n",
    "ytest_class = (ytest > threshold).astype(int)\n",
    "\n",
    "# Calculate accuracy\n",
    "accuracy = np.mean(pred_class == ytest_class)\n",
    "\n",
    "print(f'Accuracy: {accuracy}')"
   ]
  },
  {
   "cell_type": "code",
   "execution_count": null,
   "metadata": {},
   "outputs": [],
   "source": []
  }
 ],
 "metadata": {
  "kernelspec": {
   "display_name": "base",
   "language": "python",
   "name": "python3"
  },
  "language_info": {
   "codemirror_mode": {
    "name": "ipython",
    "version": 3
   },
   "file_extension": ".py",
   "mimetype": "text/x-python",
   "name": "python",
   "nbconvert_exporter": "python",
   "pygments_lexer": "ipython3",
   "version": "3.10.10"
  },
  "orig_nbformat": 4
 },
 "nbformat": 4,
 "nbformat_minor": 2
}
