{
 "cells": [
  {
   "cell_type": "code",
   "execution_count": 380,
   "metadata": {},
   "outputs": [],
   "source": [
    "import pandas as pd\n",
    "import numpy as np\n",
    "from sklearn.linear_model import LinearRegression\n",
    "from sklearn.tree import DecisionTreeClassifier\n",
    "from sklearn.tree import DecisionTreeRegressor\n",
    "from sklearn.metrics import mean_squared_error, r2_score\n",
    "from sklearn.model_selection import cross_val_score"
   ]
  },
  {
   "cell_type": "code",
   "execution_count": 381,
   "metadata": {},
   "outputs": [],
   "source": [
    "data = pd.read_csv('202310-divvy-tripdata.csv')\n",
    "data = data[pd.to_numeric(data['start_station_id'], errors='coerce').notnull()]\n",
    "data = data[pd.to_numeric(data['end_station_id'], errors='coerce').notnull()]\n",
    "data = data.dropna(subset=['start_station_id', 'end_station_id'])"
   ]
  },
  {
   "cell_type": "code",
   "execution_count": 382,
   "metadata": {},
   "outputs": [
    {
     "data": {
      "text/html": [
       "<div>\n",
       "<style scoped>\n",
       "    .dataframe tbody tr th:only-of-type {\n",
       "        vertical-align: middle;\n",
       "    }\n",
       "\n",
       "    .dataframe tbody tr th {\n",
       "        vertical-align: top;\n",
       "    }\n",
       "\n",
       "    .dataframe thead th {\n",
       "        text-align: right;\n",
       "    }\n",
       "</style>\n",
       "<table border=\"1\" class=\"dataframe\">\n",
       "  <thead>\n",
       "    <tr style=\"text-align: right;\">\n",
       "      <th></th>\n",
       "      <th>startcount</th>\n",
       "    </tr>\n",
       "    <tr>\n",
       "      <th>start_station_id</th>\n",
       "      <th></th>\n",
       "    </tr>\n",
       "  </thead>\n",
       "  <tbody>\n",
       "    <tr>\n",
       "      <th>13022</th>\n",
       "      <td>2230</td>\n",
       "    </tr>\n",
       "    <tr>\n",
       "      <th>13300</th>\n",
       "      <td>1883</td>\n",
       "    </tr>\n",
       "    <tr>\n",
       "      <th>13216</th>\n",
       "      <td>1310</td>\n",
       "    </tr>\n",
       "    <tr>\n",
       "      <th>15544</th>\n",
       "      <td>1284</td>\n",
       "    </tr>\n",
       "    <tr>\n",
       "      <th>13008</th>\n",
       "      <td>1258</td>\n",
       "    </tr>\n",
       "  </tbody>\n",
       "</table>\n",
       "</div>"
      ],
      "text/plain": [
       "                  startcount\n",
       "start_station_id            \n",
       "13022                   2230\n",
       "13300                   1883\n",
       "13216                   1310\n",
       "15544                   1284\n",
       "13008                   1258"
      ]
     },
     "execution_count": 382,
     "metadata": {},
     "output_type": "execute_result"
    }
   ],
   "source": [
    "\n",
    "start = pd.DataFrame(data['start_station_id'].value_counts())\n",
    "end = pd.DataFrame(data['end_station_id'].value_counts())\n",
    "start = start.rename(columns={'count': 'startcount'})\n",
    "start.head()"
   ]
  },
  {
   "cell_type": "code",
   "execution_count": 383,
   "metadata": {},
   "outputs": [
    {
     "data": {
      "text/html": [
       "<div>\n",
       "<style scoped>\n",
       "    .dataframe tbody tr th:only-of-type {\n",
       "        vertical-align: middle;\n",
       "    }\n",
       "\n",
       "    .dataframe tbody tr th {\n",
       "        vertical-align: top;\n",
       "    }\n",
       "\n",
       "    .dataframe thead th {\n",
       "        text-align: right;\n",
       "    }\n",
       "</style>\n",
       "<table border=\"1\" class=\"dataframe\">\n",
       "  <thead>\n",
       "    <tr style=\"text-align: right;\">\n",
       "      <th></th>\n",
       "      <th>endcount</th>\n",
       "    </tr>\n",
       "    <tr>\n",
       "      <th>end_station_id</th>\n",
       "      <th></th>\n",
       "    </tr>\n",
       "  </thead>\n",
       "  <tbody>\n",
       "    <tr>\n",
       "      <th>13022</th>\n",
       "      <td>2546</td>\n",
       "    </tr>\n",
       "    <tr>\n",
       "      <th>13300</th>\n",
       "      <td>1703</td>\n",
       "    </tr>\n",
       "    <tr>\n",
       "      <th>13008</th>\n",
       "      <td>1403</td>\n",
       "    </tr>\n",
       "    <tr>\n",
       "      <th>13216</th>\n",
       "      <td>1305</td>\n",
       "    </tr>\n",
       "    <tr>\n",
       "      <th>13042</th>\n",
       "      <td>1289</td>\n",
       "    </tr>\n",
       "  </tbody>\n",
       "</table>\n",
       "</div>"
      ],
      "text/plain": [
       "                endcount\n",
       "end_station_id          \n",
       "13022               2546\n",
       "13300               1703\n",
       "13008               1403\n",
       "13216               1305\n",
       "13042               1289"
      ]
     },
     "execution_count": 383,
     "metadata": {},
     "output_type": "execute_result"
    }
   ],
   "source": [
    "end = end.rename(columns={'count': 'endcount'})\n",
    "end.head()"
   ]
  },
  {
   "cell_type": "code",
   "execution_count": 384,
   "metadata": {},
   "outputs": [
    {
     "data": {
      "text/html": [
       "<div>\n",
       "<style scoped>\n",
       "    .dataframe tbody tr th:only-of-type {\n",
       "        vertical-align: middle;\n",
       "    }\n",
       "\n",
       "    .dataframe tbody tr th {\n",
       "        vertical-align: top;\n",
       "    }\n",
       "\n",
       "    .dataframe thead th {\n",
       "        text-align: right;\n",
       "    }\n",
       "</style>\n",
       "<table border=\"1\" class=\"dataframe\">\n",
       "  <thead>\n",
       "    <tr style=\"text-align: right;\">\n",
       "      <th></th>\n",
       "      <th>startcount</th>\n",
       "      <th>endcount</th>\n",
       "      <th>total</th>\n",
       "    </tr>\n",
       "  </thead>\n",
       "  <tbody>\n",
       "    <tr>\n",
       "      <th>13022</th>\n",
       "      <td>2230.0</td>\n",
       "      <td>2546.0</td>\n",
       "      <td>4776.0</td>\n",
       "    </tr>\n",
       "    <tr>\n",
       "      <th>13300</th>\n",
       "      <td>1883.0</td>\n",
       "      <td>1703.0</td>\n",
       "      <td>3586.0</td>\n",
       "    </tr>\n",
       "    <tr>\n",
       "      <th>13216</th>\n",
       "      <td>1310.0</td>\n",
       "      <td>1305.0</td>\n",
       "      <td>2615.0</td>\n",
       "    </tr>\n",
       "    <tr>\n",
       "      <th>15544</th>\n",
       "      <td>1284.0</td>\n",
       "      <td>1114.0</td>\n",
       "      <td>2398.0</td>\n",
       "    </tr>\n",
       "    <tr>\n",
       "      <th>13008</th>\n",
       "      <td>1258.0</td>\n",
       "      <td>1403.0</td>\n",
       "      <td>2661.0</td>\n",
       "    </tr>\n",
       "    <tr>\n",
       "      <th>13042</th>\n",
       "      <td>1150.0</td>\n",
       "      <td>1289.0</td>\n",
       "      <td>2439.0</td>\n",
       "    </tr>\n",
       "    <tr>\n",
       "      <th>13217</th>\n",
       "      <td>1092.0</td>\n",
       "      <td>1067.0</td>\n",
       "      <td>2159.0</td>\n",
       "    </tr>\n",
       "    <tr>\n",
       "      <th>13011</th>\n",
       "      <td>1004.0</td>\n",
       "      <td>943.0</td>\n",
       "      <td>1947.0</td>\n",
       "    </tr>\n",
       "    <tr>\n",
       "      <th>638</th>\n",
       "      <td>988.0</td>\n",
       "      <td>1047.0</td>\n",
       "      <td>2035.0</td>\n",
       "    </tr>\n",
       "    <tr>\n",
       "      <th>13061</th>\n",
       "      <td>965.0</td>\n",
       "      <td>964.0</td>\n",
       "      <td>1929.0</td>\n",
       "    </tr>\n",
       "  </tbody>\n",
       "</table>\n",
       "</div>"
      ],
      "text/plain": [
       "       startcount  endcount   total\n",
       "13022      2230.0    2546.0  4776.0\n",
       "13300      1883.0    1703.0  3586.0\n",
       "13216      1310.0    1305.0  2615.0\n",
       "15544      1284.0    1114.0  2398.0\n",
       "13008      1258.0    1403.0  2661.0\n",
       "13042      1150.0    1289.0  2439.0\n",
       "13217      1092.0    1067.0  2159.0\n",
       "13011      1004.0     943.0  1947.0\n",
       "638         988.0    1047.0  2035.0\n",
       "13061       965.0     964.0  1929.0"
      ]
     },
     "execution_count": 384,
     "metadata": {},
     "output_type": "execute_result"
    }
   ],
   "source": [
    "stations = pd.concat([start['startcount'], end['endcount']], axis=1)\n",
    "stations['total'] = stations['startcount'] + stations['endcount']\n",
    "stations.head(10)\n",
    "#stations['total'] = stations['start_station_id'] + stations['end_station_id']\n",
    "#stations.head(10)"
   ]
  },
  {
   "cell_type": "code",
   "execution_count": 385,
   "metadata": {},
   "outputs": [
    {
     "name": "stdout",
     "output_type": "stream",
     "text": [
      "['13022', '13300', '13008', '13216', '13042', '15544', '13217', '638', '13011', '13061']\n"
     ]
    }
   ],
   "source": [
    "stats = stations.sort_values('total', ascending=False).head(10)\n",
    "stats = list(stats.index)\n",
    "print(stats)"
   ]
  },
  {
   "cell_type": "code",
   "execution_count": 386,
   "metadata": {},
   "outputs": [
    {
     "data": {
      "text/html": [
       "<div>\n",
       "<style scoped>\n",
       "    .dataframe tbody tr th:only-of-type {\n",
       "        vertical-align: middle;\n",
       "    }\n",
       "\n",
       "    .dataframe tbody tr th {\n",
       "        vertical-align: top;\n",
       "    }\n",
       "\n",
       "    .dataframe thead th {\n",
       "        text-align: right;\n",
       "    }\n",
       "</style>\n",
       "<table border=\"1\" class=\"dataframe\">\n",
       "  <thead>\n",
       "    <tr style=\"text-align: right;\">\n",
       "      <th></th>\n",
       "      <th>ride_id</th>\n",
       "      <th>rideable_type</th>\n",
       "      <th>started_at</th>\n",
       "      <th>ended_at</th>\n",
       "      <th>start_station_name</th>\n",
       "      <th>start_station_id</th>\n",
       "      <th>end_station_name</th>\n",
       "      <th>end_station_id</th>\n",
       "      <th>start_lat</th>\n",
       "      <th>start_lng</th>\n",
       "      <th>end_lat</th>\n",
       "      <th>end_lng</th>\n",
       "      <th>member_casual</th>\n",
       "    </tr>\n",
       "  </thead>\n",
       "  <tbody>\n",
       "    <tr>\n",
       "      <th>603</th>\n",
       "      <td>A1B0885683D4B4CC</td>\n",
       "      <td>classic_bike</td>\n",
       "      <td>2023-10-13 18:31:25</td>\n",
       "      <td>2023-10-13 18:54:00</td>\n",
       "      <td>Streeter Dr &amp; Grand Ave</td>\n",
       "      <td>13022</td>\n",
       "      <td>Larrabee St &amp; Webster Ave</td>\n",
       "      <td>13193</td>\n",
       "      <td>41.892278</td>\n",
       "      <td>-87.612043</td>\n",
       "      <td>41.921822</td>\n",
       "      <td>-87.644140</td>\n",
       "      <td>member</td>\n",
       "    </tr>\n",
       "    <tr>\n",
       "      <th>608</th>\n",
       "      <td>8BECFAB67F1FA81D</td>\n",
       "      <td>classic_bike</td>\n",
       "      <td>2023-10-22 17:44:50</td>\n",
       "      <td>2023-10-22 18:09:05</td>\n",
       "      <td>Streeter Dr &amp; Grand Ave</td>\n",
       "      <td>13022</td>\n",
       "      <td>Larrabee St &amp; Webster Ave</td>\n",
       "      <td>13193</td>\n",
       "      <td>41.892278</td>\n",
       "      <td>-87.612043</td>\n",
       "      <td>41.921822</td>\n",
       "      <td>-87.644140</td>\n",
       "      <td>casual</td>\n",
       "    </tr>\n",
       "    <tr>\n",
       "      <th>1042</th>\n",
       "      <td>BE2395919F04F1E0</td>\n",
       "      <td>electric_bike</td>\n",
       "      <td>2023-10-28 15:56:13</td>\n",
       "      <td>2023-10-28 16:15:34</td>\n",
       "      <td>Streeter Dr &amp; Grand Ave</td>\n",
       "      <td>13022</td>\n",
       "      <td>Aberdeen St &amp; Randolph St</td>\n",
       "      <td>18062</td>\n",
       "      <td>41.892319</td>\n",
       "      <td>-87.612234</td>\n",
       "      <td>41.884114</td>\n",
       "      <td>-87.654264</td>\n",
       "      <td>member</td>\n",
       "    </tr>\n",
       "    <tr>\n",
       "      <th>1198</th>\n",
       "      <td>8527F766D559425F</td>\n",
       "      <td>electric_bike</td>\n",
       "      <td>2023-10-28 15:55:45</td>\n",
       "      <td>2023-10-28 16:15:36</td>\n",
       "      <td>Streeter Dr &amp; Grand Ave</td>\n",
       "      <td>13022</td>\n",
       "      <td>Aberdeen St &amp; Randolph St</td>\n",
       "      <td>18062</td>\n",
       "      <td>41.892313</td>\n",
       "      <td>-87.612226</td>\n",
       "      <td>41.884114</td>\n",
       "      <td>-87.654264</td>\n",
       "      <td>member</td>\n",
       "    </tr>\n",
       "    <tr>\n",
       "      <th>1200</th>\n",
       "      <td>A4A3170B63E200BB</td>\n",
       "      <td>electric_bike</td>\n",
       "      <td>2023-10-23 18:26:25</td>\n",
       "      <td>2023-10-23 18:41:07</td>\n",
       "      <td>Streeter Dr &amp; Grand Ave</td>\n",
       "      <td>13022</td>\n",
       "      <td>Larrabee St &amp; Webster Ave</td>\n",
       "      <td>13193</td>\n",
       "      <td>41.892294</td>\n",
       "      <td>-87.612193</td>\n",
       "      <td>41.921822</td>\n",
       "      <td>-87.644140</td>\n",
       "      <td>member</td>\n",
       "    </tr>\n",
       "  </tbody>\n",
       "</table>\n",
       "</div>"
      ],
      "text/plain": [
       "               ride_id  rideable_type           started_at  \\\n",
       "603   A1B0885683D4B4CC   classic_bike  2023-10-13 18:31:25   \n",
       "608   8BECFAB67F1FA81D   classic_bike  2023-10-22 17:44:50   \n",
       "1042  BE2395919F04F1E0  electric_bike  2023-10-28 15:56:13   \n",
       "1198  8527F766D559425F  electric_bike  2023-10-28 15:55:45   \n",
       "1200  A4A3170B63E200BB  electric_bike  2023-10-23 18:26:25   \n",
       "\n",
       "                 ended_at       start_station_name start_station_id  \\\n",
       "603   2023-10-13 18:54:00  Streeter Dr & Grand Ave            13022   \n",
       "608   2023-10-22 18:09:05  Streeter Dr & Grand Ave            13022   \n",
       "1042  2023-10-28 16:15:34  Streeter Dr & Grand Ave            13022   \n",
       "1198  2023-10-28 16:15:36  Streeter Dr & Grand Ave            13022   \n",
       "1200  2023-10-23 18:41:07  Streeter Dr & Grand Ave            13022   \n",
       "\n",
       "               end_station_name end_station_id  start_lat  start_lng  \\\n",
       "603   Larrabee St & Webster Ave          13193  41.892278 -87.612043   \n",
       "608   Larrabee St & Webster Ave          13193  41.892278 -87.612043   \n",
       "1042  Aberdeen St & Randolph St          18062  41.892319 -87.612234   \n",
       "1198  Aberdeen St & Randolph St          18062  41.892313 -87.612226   \n",
       "1200  Larrabee St & Webster Ave          13193  41.892294 -87.612193   \n",
       "\n",
       "        end_lat    end_lng member_casual  \n",
       "603   41.921822 -87.644140        member  \n",
       "608   41.921822 -87.644140        casual  \n",
       "1042  41.884114 -87.654264        member  \n",
       "1198  41.884114 -87.654264        member  \n",
       "1200  41.921822 -87.644140        member  "
      ]
     },
     "execution_count": 386,
     "metadata": {},
     "output_type": "execute_result"
    }
   ],
   "source": [
    "# take out just these top stations from the data\n",
    "divd = data[(data['start_station_id'].isin(stats)) | (data['end_station_id'].isin(stats))]\n",
    "divd.head()"
   ]
  },
  {
   "cell_type": "code",
   "execution_count": 387,
   "metadata": {},
   "outputs": [
    {
     "name": "stdout",
     "output_type": "stream",
     "text": [
      "Index(['ride_id', 'rideable_type', 'started_at', 'ended_at',\n",
      "       'start_station_name', 'start_station_id', 'end_station_name',\n",
      "       'end_station_id', 'start_lat', 'start_lng', 'end_lat', 'end_lng',\n",
      "       'member_casual'],\n",
      "      dtype='object')\n"
     ]
    }
   ],
   "source": [
    "print(divd.columns)"
   ]
  },
  {
   "cell_type": "code",
   "execution_count": 388,
   "metadata": {},
   "outputs": [
    {
     "data": {
      "text/html": [
       "<div>\n",
       "<style scoped>\n",
       "    .dataframe tbody tr th:only-of-type {\n",
       "        vertical-align: middle;\n",
       "    }\n",
       "\n",
       "    .dataframe tbody tr th {\n",
       "        vertical-align: top;\n",
       "    }\n",
       "\n",
       "    .dataframe thead th {\n",
       "        text-align: right;\n",
       "    }\n",
       "</style>\n",
       "<table border=\"1\" class=\"dataframe\">\n",
       "  <thead>\n",
       "    <tr style=\"text-align: right;\">\n",
       "      <th></th>\n",
       "      <th>started_at</th>\n",
       "      <th>ended_at</th>\n",
       "      <th>start_station_name</th>\n",
       "      <th>start_station_id</th>\n",
       "      <th>end_station_name</th>\n",
       "      <th>end_station_id</th>\n",
       "    </tr>\n",
       "  </thead>\n",
       "  <tbody>\n",
       "    <tr>\n",
       "      <th>603</th>\n",
       "      <td>2023-10-13 18:31:25</td>\n",
       "      <td>2023-10-13 18:54:00</td>\n",
       "      <td>Streeter Dr &amp; Grand Ave</td>\n",
       "      <td>13022</td>\n",
       "      <td>Larrabee St &amp; Webster Ave</td>\n",
       "      <td>13193</td>\n",
       "    </tr>\n",
       "    <tr>\n",
       "      <th>608</th>\n",
       "      <td>2023-10-22 17:44:50</td>\n",
       "      <td>2023-10-22 18:09:05</td>\n",
       "      <td>Streeter Dr &amp; Grand Ave</td>\n",
       "      <td>13022</td>\n",
       "      <td>Larrabee St &amp; Webster Ave</td>\n",
       "      <td>13193</td>\n",
       "    </tr>\n",
       "    <tr>\n",
       "      <th>1042</th>\n",
       "      <td>2023-10-28 15:56:13</td>\n",
       "      <td>2023-10-28 16:15:34</td>\n",
       "      <td>Streeter Dr &amp; Grand Ave</td>\n",
       "      <td>13022</td>\n",
       "      <td>Aberdeen St &amp; Randolph St</td>\n",
       "      <td>18062</td>\n",
       "    </tr>\n",
       "    <tr>\n",
       "      <th>1198</th>\n",
       "      <td>2023-10-28 15:55:45</td>\n",
       "      <td>2023-10-28 16:15:36</td>\n",
       "      <td>Streeter Dr &amp; Grand Ave</td>\n",
       "      <td>13022</td>\n",
       "      <td>Aberdeen St &amp; Randolph St</td>\n",
       "      <td>18062</td>\n",
       "    </tr>\n",
       "    <tr>\n",
       "      <th>1200</th>\n",
       "      <td>2023-10-23 18:26:25</td>\n",
       "      <td>2023-10-23 18:41:07</td>\n",
       "      <td>Streeter Dr &amp; Grand Ave</td>\n",
       "      <td>13022</td>\n",
       "      <td>Larrabee St &amp; Webster Ave</td>\n",
       "      <td>13193</td>\n",
       "    </tr>\n",
       "  </tbody>\n",
       "</table>\n",
       "</div>"
      ],
      "text/plain": [
       "               started_at             ended_at       start_station_name  \\\n",
       "603   2023-10-13 18:31:25  2023-10-13 18:54:00  Streeter Dr & Grand Ave   \n",
       "608   2023-10-22 17:44:50  2023-10-22 18:09:05  Streeter Dr & Grand Ave   \n",
       "1042  2023-10-28 15:56:13  2023-10-28 16:15:34  Streeter Dr & Grand Ave   \n",
       "1198  2023-10-28 15:55:45  2023-10-28 16:15:36  Streeter Dr & Grand Ave   \n",
       "1200  2023-10-23 18:26:25  2023-10-23 18:41:07  Streeter Dr & Grand Ave   \n",
       "\n",
       "     start_station_id           end_station_name end_station_id  \n",
       "603             13022  Larrabee St & Webster Ave          13193  \n",
       "608             13022  Larrabee St & Webster Ave          13193  \n",
       "1042            13022  Aberdeen St & Randolph St          18062  \n",
       "1198            13022  Aberdeen St & Randolph St          18062  \n",
       "1200            13022  Larrabee St & Webster Ave          13193  "
      ]
     },
     "execution_count": 388,
     "metadata": {},
     "output_type": "execute_result"
    }
   ],
   "source": [
    "# don't need ride_id, rideable_type, start_lat, start_lng, end_lat, end_lng, or member_casual\n",
    "divd = divd[['started_at', 'ended_at', 'start_station_name', 'start_station_id', 'end_station_name', 'end_station_id']]\n",
    "divd.head()"
   ]
  },
  {
   "cell_type": "code",
   "execution_count": 389,
   "metadata": {},
   "outputs": [
    {
     "data": {
      "text/html": [
       "<div>\n",
       "<style scoped>\n",
       "    .dataframe tbody tr th:only-of-type {\n",
       "        vertical-align: middle;\n",
       "    }\n",
       "\n",
       "    .dataframe tbody tr th {\n",
       "        vertical-align: top;\n",
       "    }\n",
       "\n",
       "    .dataframe thead th {\n",
       "        text-align: right;\n",
       "    }\n",
       "</style>\n",
       "<table border=\"1\" class=\"dataframe\">\n",
       "  <thead>\n",
       "    <tr style=\"text-align: right;\">\n",
       "      <th></th>\n",
       "      <th>start_station_name</th>\n",
       "      <th>start_station_id</th>\n",
       "      <th>end_station_name</th>\n",
       "      <th>end_station_id</th>\n",
       "      <th>day</th>\n",
       "      <th>month</th>\n",
       "      <th>hours</th>\n",
       "      <th>hour</th>\n",
       "    </tr>\n",
       "  </thead>\n",
       "  <tbody>\n",
       "    <tr>\n",
       "      <th>603</th>\n",
       "      <td>Streeter Dr &amp; Grand Ave</td>\n",
       "      <td>13022</td>\n",
       "      <td>Larrabee St &amp; Webster Ave</td>\n",
       "      <td>13193</td>\n",
       "      <td>Friday</td>\n",
       "      <td>October</td>\n",
       "      <td>18</td>\n",
       "      <td>18</td>\n",
       "    </tr>\n",
       "    <tr>\n",
       "      <th>608</th>\n",
       "      <td>Streeter Dr &amp; Grand Ave</td>\n",
       "      <td>13022</td>\n",
       "      <td>Larrabee St &amp; Webster Ave</td>\n",
       "      <td>13193</td>\n",
       "      <td>Sunday</td>\n",
       "      <td>October</td>\n",
       "      <td>17</td>\n",
       "      <td>17</td>\n",
       "    </tr>\n",
       "    <tr>\n",
       "      <th>1042</th>\n",
       "      <td>Streeter Dr &amp; Grand Ave</td>\n",
       "      <td>13022</td>\n",
       "      <td>Aberdeen St &amp; Randolph St</td>\n",
       "      <td>18062</td>\n",
       "      <td>Saturday</td>\n",
       "      <td>October</td>\n",
       "      <td>15</td>\n",
       "      <td>15</td>\n",
       "    </tr>\n",
       "    <tr>\n",
       "      <th>1198</th>\n",
       "      <td>Streeter Dr &amp; Grand Ave</td>\n",
       "      <td>13022</td>\n",
       "      <td>Aberdeen St &amp; Randolph St</td>\n",
       "      <td>18062</td>\n",
       "      <td>Saturday</td>\n",
       "      <td>October</td>\n",
       "      <td>15</td>\n",
       "      <td>15</td>\n",
       "    </tr>\n",
       "    <tr>\n",
       "      <th>1200</th>\n",
       "      <td>Streeter Dr &amp; Grand Ave</td>\n",
       "      <td>13022</td>\n",
       "      <td>Larrabee St &amp; Webster Ave</td>\n",
       "      <td>13193</td>\n",
       "      <td>Monday</td>\n",
       "      <td>October</td>\n",
       "      <td>18</td>\n",
       "      <td>18</td>\n",
       "    </tr>\n",
       "  </tbody>\n",
       "</table>\n",
       "</div>"
      ],
      "text/plain": [
       "           start_station_name start_station_id           end_station_name  \\\n",
       "603   Streeter Dr & Grand Ave            13022  Larrabee St & Webster Ave   \n",
       "608   Streeter Dr & Grand Ave            13022  Larrabee St & Webster Ave   \n",
       "1042  Streeter Dr & Grand Ave            13022  Aberdeen St & Randolph St   \n",
       "1198  Streeter Dr & Grand Ave            13022  Aberdeen St & Randolph St   \n",
       "1200  Streeter Dr & Grand Ave            13022  Larrabee St & Webster Ave   \n",
       "\n",
       "     end_station_id       day    month hours hour  \n",
       "603           13193    Friday  October    18   18  \n",
       "608           13193    Sunday  October    17   17  \n",
       "1042          18062  Saturday  October    15   15  \n",
       "1198          18062  Saturday  October    15   15  \n",
       "1200          13193    Monday  October    18   18  "
      ]
     },
     "execution_count": 389,
     "metadata": {},
     "output_type": "execute_result"
    }
   ],
   "source": [
    "# need to change started_at to month day and time\n",
    "divd['started_at'] = pd.to_datetime(divd['started_at'])\n",
    "\n",
    "divd['day'] = divd['started_at'].dt.day_name()\n",
    "\n",
    "divd['month'] = divd['started_at'].dt.month_name()\n",
    "\n",
    "divd['hours'] = divd['started_at'].map(lambda x: str(x)[11:13])\n",
    "divd['hour'] = divd['hours']\n",
    "\n",
    "divd.drop('started_at', axis=1, inplace=True)\n",
    "divd.drop('ended_at', axis=1, inplace=True)\n",
    "divd.head()"
   ]
  },
  {
   "cell_type": "code",
   "execution_count": 390,
   "metadata": {},
   "outputs": [
    {
     "name": "stdout",
     "output_type": "stream",
     "text": [
      "Index(['start_station_name', 'hours', 'count'], dtype='object')\n"
     ]
    },
    {
     "data": {
      "text/html": [
       "<div>\n",
       "<style scoped>\n",
       "    .dataframe tbody tr th:only-of-type {\n",
       "        vertical-align: middle;\n",
       "    }\n",
       "\n",
       "    .dataframe tbody tr th {\n",
       "        vertical-align: top;\n",
       "    }\n",
       "\n",
       "    .dataframe thead th {\n",
       "        text-align: right;\n",
       "    }\n",
       "</style>\n",
       "<table border=\"1\" class=\"dataframe\">\n",
       "  <thead>\n",
       "    <tr style=\"text-align: right;\">\n",
       "      <th></th>\n",
       "      <th>start_station_name</th>\n",
       "      <th>hours</th>\n",
       "      <th>count</th>\n",
       "    </tr>\n",
       "  </thead>\n",
       "  <tbody>\n",
       "    <tr>\n",
       "      <th>0</th>\n",
       "      <td>63rd St Beach</td>\n",
       "      <td>10</td>\n",
       "      <td>2</td>\n",
       "    </tr>\n",
       "    <tr>\n",
       "      <th>1</th>\n",
       "      <td>900 W Harrison St</td>\n",
       "      <td>05</td>\n",
       "      <td>1</td>\n",
       "    </tr>\n",
       "    <tr>\n",
       "      <th>2</th>\n",
       "      <td>900 W Harrison St</td>\n",
       "      <td>06</td>\n",
       "      <td>1</td>\n",
       "    </tr>\n",
       "    <tr>\n",
       "      <th>3</th>\n",
       "      <td>900 W Harrison St</td>\n",
       "      <td>08</td>\n",
       "      <td>2</td>\n",
       "    </tr>\n",
       "    <tr>\n",
       "      <th>4</th>\n",
       "      <td>900 W Harrison St</td>\n",
       "      <td>09</td>\n",
       "      <td>1</td>\n",
       "    </tr>\n",
       "  </tbody>\n",
       "</table>\n",
       "</div>"
      ],
      "text/plain": [
       "  start_station_name hours  count\n",
       "0      63rd St Beach    10      2\n",
       "1  900 W Harrison St    05      1\n",
       "2  900 W Harrison St    06      1\n",
       "3  900 W Harrison St    08      2\n",
       "4  900 W Harrison St    09      1"
      ]
     },
     "execution_count": 390,
     "metadata": {},
     "output_type": "execute_result"
    }
   ],
   "source": [
    "#divd['hour'] = divd['hours']\n",
    "# group by starting station and the hour\n",
    "divd = pd.DataFrame(divd.groupby(['start_station_name', 'hours'])['hour'].count())\n",
    "divd = divd.rename(columns={'hour':'count'})\n",
    "divd = divd.reset_index()\n",
    "print(divd.columns)\n",
    "divd.head()"
   ]
  },
  {
   "cell_type": "code",
   "execution_count": 391,
   "metadata": {},
   "outputs": [
    {
     "data": {
      "image/png": "[encoded data removed]",
      "text/plain": [
       "<Figure size 1200x600 with 1 Axes>"
      ]
     },
     "metadata": {},
     "output_type": "display_data"
    }
   ],
   "source": [
    "import matplotlib.pyplot as plt\n",
    "\n",
    "# Assuming you have already run the groupby and reset_index operations\n",
    "# divd = pd.DataFrame(divd.groupby(['start_station_name', 'hours'])['hour'].count())\n",
    "# divd = divd.rename(columns={'hour':'count'})\n",
    "# divd = divd.reset_index()\n",
    "\n",
    "# Plotting the target column\n",
    "plt.figure(figsize=(12, 6))\n",
    "plt.scatter(divd.index, divd['count'], alpha=0.5)\n",
    "plt.title('Count of Rides by Start Station and Hour')\n",
    "plt.xlabel('Index (Grouped by Start Station and Hour)')\n",
    "plt.ylabel('Count')\n",
    "plt.show()"
   ]
  },
  {
   "cell_type": "code",
   "execution_count": 403,
   "metadata": {},
   "outputs": [
    {
     "name": "stdout",
     "output_type": "stream",
     "text": [
      "Training set shapes: xtrain:  (1522, 232)  ytrain:  (1522,)\n",
      "Testing set shapes: xtest:  (381, 232) ytest (381,)\n",
      "[ 0.67752667 -0.9845288  -0.32691231 -0.57612934  0.41944847 -0.84943309\n",
      "  1.11676662  0.91404887  0.07774415  0.16434683 -0.17322457 -1.00429093\n",
      "  0.35331368  1.10175395 -0.67383502 -1.10583387  0.79707298 -0.60746213\n",
      " -0.71340577 -1.6623414   0.17162618  0.20720282  1.83727746 -0.0972785\n",
      "  0.81995015 -0.6780608  -0.57091521  1.49306737 -0.44433742  0.46316869\n",
      "  0.72463088  0.25198952  0.06309524  0.85204088  0.02578473 -0.74148048\n",
      " -1.38465531  0.91804606 -0.96253851 -1.74144922 -0.59898322  1.55800744\n",
      "  0.23111145 -0.10716649 -0.34988486 -0.800337    0.05599103  1.55081907\n",
      "  1.40108173 -1.03714846  0.400987    0.13426102 -1.31850349  1.2916157\n",
      "  0.79934549  1.25898661  0.49309374 -0.4897943   1.44911885  0.93844827\n",
      "  1.1904415  -1.29419732 -0.19843935  0.74369445 -0.47104313  0.18758308\n",
      " -0.99000328  0.269115    1.40112074 -0.68585385  0.08612142 -0.80836107\n",
      "  1.14448484  0.52743015  0.95395663 -1.46110723  0.03214357  0.442284\n",
      "  0.6790695   2.55905282 -0.16049311  0.33753784  0.61502668 -0.23274954\n",
      " -0.3731768   1.09117264  0.02260347 -0.41171538  0.71603986 -1.50601247\n",
      " -0.60502113  0.6548257  -1.98936022  0.66769591  0.35036068  0.50162876\n",
      "  1.16869189 -0.15719958 -0.76838474  1.25380852  0.37841838 -0.57866866\n",
      " -0.59991914 -1.93427019  1.47336145  1.71152641 -1.66179807  0.7426051\n",
      "  1.20204965  0.57644337  0.20559966  1.02986666  0.62361528 -0.18541943\n",
      "  0.06395589 -1.29932135  0.01479485 -0.01469678 -0.99666171 -1.15724107\n",
      "  0.0157762   1.1689112   0.59913833 -0.25539102 -0.91439872  1.50204199\n",
      "  0.18602047 -0.00911953 -0.92199074  0.01968565  0.04698551  0.62662648\n",
      "  1.42723699  0.13788383  1.0187494   0.04135191  1.93752526  0.19961213\n",
      " -0.35589855  0.15533172 -0.88435225 -1.04972962 -0.96784778  1.36483426\n",
      "  0.89395577  1.11108229 -0.67713002  0.77465546  1.82830198  1.28635186\n",
      "  0.75862904 -1.00112147 -1.43029717 -0.07416802 -0.35852708 -0.67199799\n",
      " -0.02784556 -1.21868617  1.0219925   0.61212307  0.67320352  0.25480499\n",
      "  1.70556    -0.8271922  -0.02530011  1.52935976 -1.07638967 -2.71307854\n",
      " -0.369512   -1.41357632 -1.01883426  0.58966792 -0.04070939 -1.01006297\n",
      " -1.18214071  0.64674881  0.22585212 -0.12131193  0.07449014 -0.95100568\n",
      "  1.00160077  0.68230662  1.39687391  0.22743611 -0.48268059 -0.21708371\n",
      " -1.26214433 -0.7667192   0.42637048 -0.67312819 -0.60225394 -1.85153997\n",
      "  0.5108713   1.04414105 -0.62023687 -0.38029869 -1.62420072 -0.44237285\n",
      "  0.88529645 -0.28812823 -1.05626688 -1.4133663  -0.47728928  2.04613348\n",
      " -0.72059846 -0.39963514  0.06189937  2.45129284 -0.94845495  1.50122897\n",
      " -1.7862006  -0.10103694 -0.8216793  -0.12678445 -0.24393316  1.31210589\n",
      "  1.15700411  2.83054647 -0.71393018 -0.21806034  2.43304865 -1.06970841\n",
      " -0.53985193  0.58932193  0.06147771 -0.66287133  0.69654932 -1.08286252\n",
      "  0.76809239  1.0428045   1.43874983  2.32033629]\n",
      "[-1.30737574]\n"
     ]
    }
   ],
   "source": [
    "from sklearn.model_selection import train_test_split\n",
    "# split into train and test data using sklearn.model_selection\n",
    "features = ['start_station_name', 'hours']\n",
    "X = pd.get_dummies(divd[features], columns=['start_station_name'], drop_first=True)\n",
    "y = divd['count']\n",
    "xtrain, xtest, ytrain, ytest = train_test_split(X, y, test_size=0.2, random_state=42)\n",
    "xtrain = xtrain.to_numpy()\n",
    "print(\"Training set shapes: xtrain: \", xtrain.shape, \" ytrain: \", ytrain.shape)\n",
    "print(\"Testing set shapes: xtest: \", xtest.shape, \"ytest\", ytest.shape)\n",
    "weights = np.random.normal(0, 1, xtrain.shape[1])\n",
    "bias = np.random.normal(0, 1, 1)\n",
    "print(weights)\n",
    "print(bias)"
   ]
  },
  {
   "cell_type": "code",
   "execution_count": 404,
   "metadata": {},
   "outputs": [],
   "source": [
    "# Create a Decision Tree Regressor\n",
    "tree_model = DecisionTreeRegressor(random_state=42)"
   ]
  },
  {
   "cell_type": "code",
   "execution_count": 405,
   "metadata": {},
   "outputs": [
    {
     "data": {
      "text/html": [
       "<style>#sk-container-id-2 {color: black;}#sk-container-id-2 pre{padding: 0;}#sk-container-id-2 div.sk-toggleable {background-color: white;}#sk-container-id-2 label.sk-toggleable__label {cursor: pointer;display: block;width: 100%;margin-bottom: 0;padding: 0.3em;box-sizing: border-box;text-align: center;}#sk-container-id-2 label.sk-toggleable__label-arrow:before {content: \"▸\";float: left;margin-right: 0.25em;color: #696969;}#sk-container-id-2 label.sk-toggleable__label-arrow:hover:before {color: black;}#sk-container-id-2 div.sk-estimator:hover label.sk-toggleable__label-arrow:before {color: black;}#sk-container-id-2 div.sk-toggleable__content {max-height: 0;max-width: 0;overflow: hidden;text-align: left;background-color: #f0f8ff;}#sk-container-id-2 div.sk-toggleable__content pre {margin: 0.2em;color: black;border-radius: 0.25em;background-color: #f0f8ff;}#sk-container-id-2 input.sk-toggleable__control:checked~div.sk-toggleable__content {max-height: 200px;max-width: 100%;overflow: auto;}#sk-container-id-2 input.sk-toggleable__control:checked~label.sk-toggleable__label-arrow:before {content: \"▾\";}#sk-container-id-2 div.sk-estimator input.sk-toggleable__control:checked~label.sk-toggleable__label {background-color: #d4ebff;}#sk-container-id-2 div.sk-label input.sk-toggleable__control:checked~label.sk-toggleable__label {background-color: #d4ebff;}#sk-container-id-2 input.sk-hidden--visually {border: 0;clip: rect(1px 1px 1px 1px);clip: rect(1px, 1px, 1px, 1px);height: 1px;margin: -1px;overflow: hidden;padding: 0;position: absolute;width: 1px;}#sk-container-id-2 div.sk-estimator {font-family: monospace;background-color: #f0f8ff;border: 1px dotted black;border-radius: 0.25em;box-sizing: border-box;margin-bottom: 0.5em;}#sk-container-id-2 div.sk-estimator:hover {background-color: #d4ebff;}#sk-container-id-2 div.sk-parallel-item::after {content: \"\";width: 100%;border-bottom: 1px solid gray;flex-grow: 1;}#sk-container-id-2 div.sk-label:hover label.sk-toggleable__label {background-color: #d4ebff;}#sk-container-id-2 div.sk-serial::before {content: \"\";position: absolute;border-left: 1px solid gray;box-sizing: border-box;top: 0;bottom: 0;left: 50%;z-index: 0;}#sk-container-id-2 div.sk-serial {display: flex;flex-direction: column;align-items: center;background-color: white;padding-right: 0.2em;padding-left: 0.2em;position: relative;}#sk-container-id-2 div.sk-item {position: relative;z-index: 1;}#sk-container-id-2 div.sk-parallel {display: flex;align-items: stretch;justify-content: center;background-color: white;position: relative;}#sk-container-id-2 div.sk-item::before, #sk-container-id-2 div.sk-parallel-item::before {content: \"\";position: absolute;border-left: 1px solid gray;box-sizing: border-box;top: 0;bottom: 0;left: 50%;z-index: -1;}#sk-container-id-2 div.sk-parallel-item {display: flex;flex-direction: column;z-index: 1;position: relative;background-color: white;}#sk-container-id-2 div.sk-parallel-item:first-child::after {align-self: flex-end;width: 50%;}#sk-container-id-2 div.sk-parallel-item:last-child::after {align-self: flex-start;width: 50%;}#sk-container-id-2 div.sk-parallel-item:only-child::after {width: 0;}#sk-container-id-2 div.sk-dashed-wrapped {border: 1px dashed gray;margin: 0 0.4em 0.5em 0.4em;box-sizing: border-box;padding-bottom: 0.4em;background-color: white;}#sk-container-id-2 div.sk-label label {font-family: monospace;font-weight: bold;display: inline-block;line-height: 1.2em;}#sk-container-id-2 div.sk-label-container {text-align: center;}#sk-container-id-2 div.sk-container {/* jupyter's `normalize.less` sets `[hidden] { display: none; }` but bootstrap.min.css set `[hidden] { display: none !important; }` so we also need the `!important` here to be able to override the default hidden behavior on the sphinx rendered scikit-learn.org. See: https://github.com/scikit-learn/scikit-learn/issues/21755 */display: inline-block !important;position: relative;}#sk-container-id-2 div.sk-text-repr-fallback {display: none;}</style><div id=\"sk-container-id-2\" class=\"sk-top-container\"><div class=\"sk-text-repr-fallback\"><pre>DecisionTreeRegressor(random_state=42)</pre><b>In a Jupyter environment, please rerun this cell to show the HTML representation or trust the notebook. <br />On GitHub, the HTML representation is unable to render, please try loading this page with nbviewer.org.</b></div><div class=\"sk-container\" hidden><div class=\"sk-item\"><div class=\"sk-estimator sk-toggleable\"><input class=\"sk-toggleable__control sk-hidden--visually\" id=\"sk-estimator-id-2\" type=\"checkbox\" checked><label for=\"sk-estimator-id-2\" class=\"sk-toggleable__label sk-toggleable__label-arrow\">DecisionTreeRegressor</label><div class=\"sk-toggleable__content\"><pre>DecisionTreeRegressor(random_state=42)</pre></div></div></div></div></div>"
      ],
      "text/plain": [
       "DecisionTreeRegressor(random_state=42)"
      ]
     },
     "execution_count": 405,
     "metadata": {},
     "output_type": "execute_result"
    }
   ],
   "source": [
    "# Train the model\n",
    "tree_model.fit(xtrain, ytrain)"
   ]
  },
  {
   "cell_type": "code",
   "execution_count": 406,
   "metadata": {},
   "outputs": [
    {
     "name": "stderr",
     "output_type": "stream",
     "text": [
      "/Users/neelu/clear/lib/python3.10/site-packages/sklearn/base.py:458: UserWarning: X has feature names, but DecisionTreeRegressor was fitted without feature names\n",
      "  warnings.warn(\n"
     ]
    }
   ],
   "source": [
    "# Predict on the test set\n",
    "y_pred = tree_model.predict(xtest)"
   ]
  },
  {
   "cell_type": "code",
   "execution_count": 407,
   "metadata": {},
   "outputs": [
    {
     "name": "stdout",
     "output_type": "stream",
     "text": [
      "Mean Squared Error: 80.85826771653544\n",
      "R-squared: 0.7999080844623294\n"
     ]
    }
   ],
   "source": [
    "# Evaluate the model\n",
    "mse = mean_squared_error(ytest, y_pred)\n",
    "r2 = r2_score(ytest, y_pred)\n",
    "\n",
    "print(f'Mean Squared Error: {mse}')\n",
    "print(f'R-squared: {r2}')"
   ]
  },
  {
   "cell_type": "code",
   "execution_count": 408,
   "metadata": {},
   "outputs": [
    {
     "name": "stdout",
     "output_type": "stream",
     "text": [
      "Cross-validation Scores: [-0.18578454 -0.13012444 -0.06895957 -0.16735423 -0.11044304]\n"
     ]
    }
   ],
   "source": [
    "# Cross-validation\n",
    "cv_scores = cross_val_score(tree_model, X, y, cv=5)\n",
    "print(f'Cross-validation Scores: {cv_scores}')"
   ]
  },
  {
   "cell_type": "code",
   "execution_count": 409,
   "metadata": {},
   "outputs": [
    {
     "name": "stdout",
     "output_type": "stream",
     "text": [
      "Feature Importances:\n",
      "                                               Feature  Importance\n",
      "0                                                hours    0.483260\n",
      "207         start_station_name_Streeter Dr & Grand Ave    0.177193\n",
      "99   start_station_name_DuSable Lake Shore Dr & Mon...    0.093948\n",
      "185                  start_station_name_Shedd Aquarium    0.060209\n",
      "200              start_station_name_State St & 33rd St    0.032891\n"
     ]
    }
   ],
   "source": [
    "# Feature importances\n",
    "feature_importances = pd.DataFrame({'Feature': X.columns, 'Importance': tree_model.feature_importances_})\n",
    "feature_importances = feature_importances.sort_values('Importance', ascending=False)\n",
    "print('Feature Importances:')\n",
    "print(feature_importances.head())"
   ]
  },
  {
   "cell_type": "code",
   "execution_count": 410,
   "metadata": {},
   "outputs": [
    {
     "name": "stdout",
     "output_type": "stream",
     "text": [
      "Accuracy: 0.8136482939632546\n"
     ]
    }
   ],
   "source": [
    "# Set a threshold to classify as high or low\n",
    "threshold = 5  # You can adjust this threshold based on your problem\n",
    "\n",
    "# Convert regression predictions to binary classification\n",
    "y_pred_class = (y_pred > threshold).astype(int)\n",
    "ytest_class = (ytest > threshold).astype(int)\n",
    "\n",
    "# Calculate accuracy\n",
    "accuracy = np.mean(y_pred_class == ytest_class)\n",
    "\n",
    "print(f'Accuracy: {accuracy}')"
   ]
  },
  {
   "cell_type": "code",
   "execution_count": 411,
   "metadata": {},
   "outputs": [
    {
     "data": {
      "text/plain": [
       "15.004694856138762"
      ]
     },
     "execution_count": 411,
     "metadata": {},
     "output_type": "execute_result"
    }
   ],
   "source": [
    "# the sigmoid function\n",
    "def sigmoid(v):\n",
    "    return np.exp(-np.logaddexp(0, -v))\n",
    "# the prob function with the sigmoid function\n",
    "def prob(x, w, b):\n",
    "    print(x.shape)\n",
    "    print(w.shape)\n",
    "    return sigmoid(np.dot(x, w) + b)\n",
    "np.linalg.norm(weights)"
   ]
  },
  {
   "cell_type": "code",
   "execution_count": 412,
   "metadata": {},
   "outputs": [],
   "source": [
    "# cross entropy loss\n",
    "def loss(w, x, y_prob, y_true, lambda_):\n",
    "    dnum = x.shape[0]\n",
    "    first = -1/dnum\n",
    "\n",
    "    sum = np.sum(y_true * np.log(y_prob+1e-15) + (1-y_true)*np.log(1-y_prob+1e-15))\n",
    "    eq = first*sum\n",
    "    ww = np.sum(w**2)\n",
    "    last = lambda_/2 * ww\n",
    "    loss = eq + last\n",
    "    return loss"
   ]
  },
  {
   "cell_type": "code",
   "execution_count": 413,
   "metadata": {},
   "outputs": [],
   "source": [
    "# gradients with respect to weights and bias\n",
    "# returns tuple\n",
    "def grad_w_b(x, w, y_prob, y_true, lambda_):\n",
    "    last = lambda_ * w\n",
    "    grad_w = np.dot(x.T, (y_prob-y_true).reshape(-1, 1)) + last\n",
    "    grad_b = np.sum(y_prob-y_true)\n",
    "    return (grad_w, grad_b)"
   ]
  },
  {
   "cell_type": "code",
   "execution_count": 414,
   "metadata": {},
   "outputs": [],
   "source": [
    "# fit function for linear regression model\n",
    "def fit(x, y_true, lr, lamb, max_iter, verbose=0):\n",
    "    w = np.random.normal(0, 1, x.shape[1])\n",
    "    b = np.random.normal(0, 1)\n",
    "    for i in range(max_iter):\n",
    "        y_prob = prob(x, w, b)\n",
    "        gw, gb = grad_w_b(x, w, y_prob, y_true, lamb)\n",
    "        w = w - lr*gw\n",
    "        b = b - lr*gb\n",
    "        if verbose:\n",
    "            l = loss(w, x, y_prob, y_true, lamb)\n",
    "            gradnormw = np.linalg.norm(gw)\n",
    "            weightnorm = np.linalg.norm(w)\n",
    "            print(f\"Iteration {i}\")\n",
    "            print(f\"Loss: {l}\")\n",
    "            print(f\"l2 norm of gradients: {gradnormw}\")\n",
    "            print(f\"l2 norm of weigts: {weightnorm}\")\n",
    "    return (w, b)\n",
    "# accuracy function\n",
    "def accuracy(x, y_true, model):\n",
    "    w, b = model\n",
    "    return np.sum((prob(x, w, b)>0.5).astype(np.float) == y_true) / y_true.shape[0]"
   ]
  },
  {
   "cell_type": "code",
   "execution_count": 415,
   "metadata": {},
   "outputs": [
    {
     "name": "stdout",
     "output_type": "stream",
     "text": [
      "(1522, 232)\n",
      "(232,)\n"
     ]
    },
    {
     "ename": "TypeError",
     "evalue": "can't multiply sequence by non-int of type 'float'",
     "output_type": "error",
     "traceback": [
      "\u001b[0;31m---------------------------------------------------------------------------\u001b[0m",
      "\u001b[0;31mTypeError\u001b[0m                                 Traceback (most recent call last)",
      "Cell \u001b[0;32mIn[415], line 4\u001b[0m\n\u001b[1;32m      1\u001b[0m lr \u001b[39m=\u001b[39m \u001b[39m0.001\u001b[39m\n\u001b[1;32m      2\u001b[0m lamb \u001b[39m=\u001b[39m \u001b[39m1.0\u001b[39m\n\u001b[0;32m----> 4\u001b[0m model \u001b[39m=\u001b[39m fit(xtrain, ytrain, lr, lamb, \u001b[39m10000\u001b[39;49m, verbose\u001b[39m=\u001b[39;49m\u001b[39m1\u001b[39;49m)\n",
      "Cell \u001b[0;32mIn[414], line 6\u001b[0m, in \u001b[0;36mfit\u001b[0;34m(x, y_true, lr, lamb, max_iter, verbose)\u001b[0m\n\u001b[1;32m      4\u001b[0m b \u001b[39m=\u001b[39m np\u001b[39m.\u001b[39mrandom\u001b[39m.\u001b[39mnormal(\u001b[39m0\u001b[39m, \u001b[39m1\u001b[39m)\n\u001b[1;32m      5\u001b[0m \u001b[39mfor\u001b[39;00m i \u001b[39min\u001b[39;00m \u001b[39mrange\u001b[39m(max_iter):\n\u001b[0;32m----> 6\u001b[0m     y_prob \u001b[39m=\u001b[39m prob(x, w, b)\n\u001b[1;32m      7\u001b[0m     gw, gb \u001b[39m=\u001b[39m grad_w_b(x, w, y_prob, y_true, lamb)\n\u001b[1;32m      8\u001b[0m     w \u001b[39m=\u001b[39m w \u001b[39m-\u001b[39m lr\u001b[39m*\u001b[39mgw\n",
      "Cell \u001b[0;32mIn[411], line 8\u001b[0m, in \u001b[0;36mprob\u001b[0;34m(x, w, b)\u001b[0m\n\u001b[1;32m      6\u001b[0m \u001b[39mprint\u001b[39m(x\u001b[39m.\u001b[39mshape)\n\u001b[1;32m      7\u001b[0m \u001b[39mprint\u001b[39m(w\u001b[39m.\u001b[39mshape)\n\u001b[0;32m----> 8\u001b[0m \u001b[39mreturn\u001b[39;00m sigmoid(np\u001b[39m.\u001b[39;49mdot(x, w) \u001b[39m+\u001b[39m b)\n",
      "\u001b[0;31mTypeError\u001b[0m: can't multiply sequence by non-int of type 'float'"
     ]
    }
   ],
   "source": [
    "lr = 0.001\n",
    "lamb = 1.0\n",
    "\n",
    "model = fit(xtrain, ytrain, lr, lamb, 10000, verbose=1)"
   ]
  },
  {
   "cell_type": "code",
   "execution_count": null,
   "metadata": {},
   "outputs": [],
   "source": []
  }
 ],
 "metadata": {
  "kernelspec": {
   "display_name": "base",
   "language": "python",
   "name": "python3"
  },
  "language_info": {
   "codemirror_mode": {
    "name": "ipython",
    "version": 3
   },
   "file_extension": ".py",
   "mimetype": "text/x-python",
   "name": "python",
   "nbconvert_exporter": "python",
   "pygments_lexer": "ipython3",
   "version": "3.10.10"
  },
  "orig_nbformat": 4
 },
 "nbformat": 4,
 "nbformat_minor": 2
}
